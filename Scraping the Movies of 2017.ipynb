{
 "cells": [
  {
   "cell_type": "markdown",
   "metadata": {},
   "source": [
    "# Introduction\n",
    "*What's this Python notebook all about?*"
   ]
  },
  {
   "cell_type": "markdown",
   "metadata": {},
   "source": [
    "`Hello world!`\n",
    "\n",
    "**This notebook will scrape some movie websites to get data, then make a model using that data.**\n",
    "\n",
    "To be specific, here's what this Python 3 notebook will do:\n",
    "1. Scrape a list of movies from IMDB\n",
    "2. Scrape each movie's stats from Rotten Tomatoes\n",
    "3. Make a Pandas DataFrame from scraped data\n",
    "4. Make a linear regression model"
   ]
  },
  {
   "cell_type": "markdown",
   "metadata": {},
   "source": [
    "---"
   ]
  },
  {
   "cell_type": "markdown",
   "metadata": {},
   "source": [
    "# `import` everything!\n",
    "*How to import all the necessary libraries (and install them if you haven't!)*"
   ]
  },
  {
   "cell_type": "markdown",
   "metadata": {},
   "source": [
    "**1. The `requests` library is for getting the HTML code of a web page.**\n",
    "\n",
    "Installation: `pip install requests`."
   ]
  },
  {
   "cell_type": "code",
   "execution_count": 1,
   "metadata": {
    "ExecuteTime": {
     "end_time": "2018-04-18T01:53:17.831328Z",
     "start_time": "2018-04-18T01:53:16.845158Z"
    },
    "collapsed": true
   },
   "outputs": [],
   "source": [
    "import requests"
   ]
  },
  {
   "cell_type": "markdown",
   "metadata": {},
   "source": [
    "**2. `BeautifulSoup` makes parsing through the HTML a LOT easier!**\n",
    "\n",
    "Installation: `pip install beautifulsoup4`."
   ]
  },
  {
   "cell_type": "code",
   "execution_count": 2,
   "metadata": {
    "ExecuteTime": {
     "end_time": "2018-04-18T01:53:18.222310Z",
     "start_time": "2018-04-18T01:53:17.833972Z"
    },
    "collapsed": true
   },
   "outputs": [],
   "source": [
    "from bs4 import BeautifulSoup"
   ]
  },
  {
   "cell_type": "markdown",
   "metadata": {},
   "source": [
    "**3. `Pandas` is one of the most iconic Python libraries for handling data.**\n",
    "\n",
    "Installation: `pip install pandas`"
   ]
  },
  {
   "cell_type": "code",
   "execution_count": 3,
   "metadata": {
    "ExecuteTime": {
     "end_time": "2018-04-18T01:53:20.613236Z",
     "start_time": "2018-04-18T01:53:18.226540Z"
    },
    "collapsed": true
   },
   "outputs": [],
   "source": [
    "import pandas as pd"
   ]
  },
  {
   "cell_type": "markdown",
   "metadata": {},
   "source": [
    "**4. `numpy` is another very iconic Python library.**\n",
    "\n",
    "This helps make Python more powerful in dealing with numbers and lists of numbers."
   ]
  },
  {
   "cell_type": "code",
   "execution_count": 4,
   "metadata": {
    "ExecuteTime": {
     "end_time": "2018-04-18T01:53:20.625918Z",
     "start_time": "2018-04-18T01:53:20.617377Z"
    },
    "collapsed": true
   },
   "outputs": [],
   "source": [
    "import numpy as np"
   ]
  },
  {
   "cell_type": "markdown",
   "metadata": {},
   "source": [
    "**5. `re` is the regex library**\n",
    "\n",
    "It's a built-in python library for implementing [regular expressions](https://www.regular-expressions.info/)."
   ]
  },
  {
   "cell_type": "code",
   "execution_count": 5,
   "metadata": {
    "ExecuteTime": {
     "end_time": "2018-04-18T01:53:20.632635Z",
     "start_time": "2018-04-18T01:53:20.629196Z"
    },
    "collapsed": true
   },
   "outputs": [],
   "source": [
    "import re"
   ]
  },
  {
   "cell_type": "markdown",
   "metadata": {},
   "source": [
    "**6. `statsmodels` was chosen as the library of choice for modeling.**\n",
    "\n",
    "It's not the fastest regression tool, but the output is most helpful for our current usage. (Our dataset is also small enough, too!)"
   ]
  },
  {
   "cell_type": "code",
   "execution_count": 6,
   "metadata": {
    "ExecuteTime": {
     "end_time": "2018-04-18T01:53:23.423832Z",
     "start_time": "2018-04-18T01:53:20.635758Z"
    }
   },
   "outputs": [
    {
     "name": "stderr",
     "output_type": "stream",
     "text": [
      "/Users/admin/anaconda/lib/python3.6/site-packages/statsmodels/compat/pandas.py:56: FutureWarning: The pandas.core.datetools module is deprecated and will be removed in a future version. Please use the pandas.tseries module instead.\n",
      "  from pandas.core import datetools\n"
     ]
    }
   ],
   "source": [
    "import statsmodels.api as sm"
   ]
  },
  {
   "cell_type": "markdown",
   "metadata": {},
   "source": [
    "---"
   ]
  },
  {
   "cell_type": "markdown",
   "metadata": {},
   "source": [
    "# Let's compile a list of movies.\n",
    "*Because the IMDB API wouldn't cooperate.*"
   ]
  },
  {
   "cell_type": "markdown",
   "metadata": {},
   "source": [
    "**To perform a study related to movies, we'll first need a list of movies to gather data about.**\n",
    "\n",
    "Since the IMDB API didn't work, we have to look for another way to get a list of movies.\n",
    "\n",
    "Check out one of the top Google results I got:"
   ]
  },
  {
   "cell_type": "markdown",
   "metadata": {},
   "source": [
    "![Check this out](1-look-the-url.png)\n",
    "\n",
    "It's a list of movies for the year 2017! Apparently, it's just a specific search query.\n",
    "\n",
    "Let's observe what we get when we go to the next page:"
   ]
  },
  {
   "cell_type": "markdown",
   "metadata": {},
   "source": [
    "![Woah, pattern!](1-look-theres-a-pattern-labelled.png)\n",
    "\n",
    "When you go to the next page, the URL actually follows a certain pattern based on its structure!"
   ]
  },
  {
   "cell_type": "markdown",
   "metadata": {},
   "source": [
    "**We can use this to our advantage, to easily prepare a list of movies!**\n",
    "\n",
    "Since all pages follow this pattern, we can just scrape as many pages as we want, and just change the value of page in the query!"
   ]
  },
  {
   "cell_type": "markdown",
   "metadata": {
    "ExecuteTime": {
     "end_time": "2018-04-11T16:25:51.774311Z",
     "start_time": "2018-04-11T16:25:51.764538Z"
    }
   },
   "source": [
    "**Let's store that website in a variable. *Note the curly braces in lieu of a number!***\n",
    "\n",
    "We do this so we can dynamically change that number as needed later on with the `format` method!"
   ]
  },
  {
   "cell_type": "code",
   "execution_count": 7,
   "metadata": {
    "ExecuteTime": {
     "end_time": "2018-04-18T01:53:23.434120Z",
     "start_time": "2018-04-18T01:53:23.427817Z"
    },
    "collapsed": true
   },
   "outputs": [],
   "source": [
    "movies_2017_url = 'https://www.imdb.com/search/title?year=2017,2017&title_type=feature&sort=moviemeter,asc&page={}&ref_=adv_nxt'"
   ]
  },
  {
   "cell_type": "markdown",
   "metadata": {},
   "source": [
    "**To demonstrate, let's go to the first page of 2017 movies.**\n",
    "\n",
    "We'll start with doing a get request to the page, and parsing it with BeautifulSoup.\n",
    "\n",
    "*Note: These are only the first 1000 characters of the HTML file; the whole HTML is much too big. [Click here to see the complete HTML file.](https://pastebin.com/WhngJxbE)*\n",
    "\n",
    "*Alternatively, use the developer tools (ctrl/cmd + Shift + C) from your favorite web browser to browse through the HTML file [of the original link](https://www.imdb.com/search/title?year=2017,2017&title_type=feature&sort=moviemeter,asc&page=1&ref_=adv_nxt) instead.*"
   ]
  },
  {
   "cell_type": "code",
   "execution_count": 8,
   "metadata": {
    "ExecuteTime": {
     "end_time": "2018-04-18T01:53:26.689060Z",
     "start_time": "2018-04-18T01:53:23.437138Z"
    }
   },
   "outputs": [
    {
     "name": "stdout",
     "output_type": "stream",
     "text": [
      "<!DOCTYPE html>\n",
      "<html xmlns:fb=\"http://www.facebook.com/2008/fbml\" xmlns:og=\"http://ogp.me/ns#\">\n",
      " <head>\n",
      "  <meta charset=\"utf-8\"/>\n",
      "  <meta content=\"IE=edge\" http-equiv=\"X-UA-Compatible\"/>\n",
      "  <meta content=\"app-id=342792525, app-argument=imdb:///?src=mdot\" name=\"apple-itunes-app\"/>\n",
      "  <script type=\"text/javascript\">\n",
      "   var IMDbTimer={starttime: new Date().getTime(),pt:'java'};\n",
      "  </script>\n",
      "  <script>\n",
      "   if (typeof uet == 'function') {\n",
      "      uet(\"bb\", \"LoadTitle\", {wb: 1});\n",
      "    }\n",
      "  </script>\n",
      "  <script>\n",
      "   (function(t){ (t.events = t.events || {})[\"csm_head_pre_title\"] = new Date().getTime(); })(IMDbTimer);\n",
      "  </script>\n",
      "  <title>\n",
      "   IMDb: Most Popular Feature Films Released 2017-01-01 to 2017-12-31 - IMDb\n",
      "  </title>\n",
      "  <script>\n",
      "   (function(t){ (t.events = t.events || {})[\"csm_head_post_title\"] = new Date().getTime(); })(IMDbTimer);\n",
      "  </script>\n",
      "  <script>\n",
      "   if (typeof uet == 'function') {\n",
      "      uet(\"be\", \"LoadTitle\", {wb: 1});\n",
      "    }\n",
      "  </script>\n",
      "  <script>\n",
      "   if (typeof uex == 'function') {\n",
      "  \n"
     ]
    }
   ],
   "source": [
    "page = BeautifulSoup(requests.get(movies_2017_url.format(1)).text, 'lxml')\n",
    "print(page.prettify()[:1000])"
   ]
  },
  {
   "cell_type": "markdown",
   "metadata": {},
   "source": [
    "**Looking through the source code, we can observe that each row in the list is in a `lister-item-content` html element.**\n",
    "\n",
    "Using the BeautifulSoup's `find_all` method allows us to get a list of all HTML elements with `lister-item-content` as their tag compiled as a Python list.\n",
    "\n",
    "Protip: To make understanding the HTML file easier, check out Google Chrome's [Developer Tools](https://developers.google.com/web/tools/chrome-devtools/)."
   ]
  },
  {
   "cell_type": "code",
   "execution_count": 9,
   "metadata": {
    "ExecuteTime": {
     "end_time": "2018-04-18T01:53:26.796339Z",
     "start_time": "2018-04-18T01:53:26.691675Z"
    },
    "collapsed": true
   },
   "outputs": [],
   "source": [
    "rows = page.find_all(class_='lister-item-content')"
   ]
  },
  {
   "cell_type": "markdown",
   "metadata": {},
   "source": [
    "**Let's see what the first element of our list looks like.**\n",
    "\n",
    "Another wonderful part of `BeautifulSoup` is that we can still use the `prettify` method with smaller components!"
   ]
  },
  {
   "cell_type": "code",
   "execution_count": 10,
   "metadata": {
    "ExecuteTime": {
     "end_time": "2018-04-18T01:53:26.808362Z",
     "start_time": "2018-04-18T01:53:26.798607Z"
    }
   },
   "outputs": [
    {
     "name": "stdout",
     "output_type": "stream",
     "text": [
      "<div class=\"lister-item-content\">\n",
      " <h3 class=\"lister-item-header\">\n",
      "  <span class=\"lister-item-index unbold text-primary\">\n",
      "   1.\n",
      "  </span>\n",
      "  <a href=\"/title/tt1485796/?ref_=adv_li_tt\">\n",
      "   The Greatest Showman\n",
      "  </a>\n",
      "  <span class=\"lister-item-year text-muted unbold\">\n",
      "   (2017)\n",
      "  </span>\n",
      " </h3>\n",
      " <p class=\"text-muted \">\n",
      "  <span class=\"certificate\">\n",
      "   PG-13\n",
      "  </span>\n",
      "  <span class=\"ghost\">\n",
      "   |\n",
      "  </span>\n",
      "  <span class=\"runtime\">\n",
      "   105 min\n",
      "  </span>\n",
      "  <span class=\"ghost\">\n",
      "   |\n",
      "  </span>\n",
      "  <span cla\n"
     ]
    }
   ],
   "source": [
    "first_row = rows[0]\n",
    "print(first_row.prettify()[:500])"
   ]
  },
  {
   "cell_type": "markdown",
   "metadata": {},
   "source": [
    "**We can easily get the title of the movie from the HTML.**\n",
    "\n",
    "`BeautifulSoup` to the rescue!"
   ]
  },
  {
   "cell_type": "code",
   "execution_count": 11,
   "metadata": {
    "ExecuteTime": {
     "end_time": "2018-04-18T01:53:26.833926Z",
     "start_time": "2018-04-18T01:53:26.811570Z"
    }
   },
   "outputs": [
    {
     "data": {
      "text/plain": [
       "'The Greatest Showman'"
      ]
     },
     "execution_count": 11,
     "metadata": {},
     "output_type": "execute_result"
    }
   ],
   "source": [
    "first_title = first_row.a.text\n",
    "first_title"
   ]
  },
  {
   "cell_type": "markdown",
   "metadata": {},
   "source": [
    "**We need to convert titles to follow the Rotten Tomatoes URL format.**\n",
    "\n",
    "All lowercase letters, no punctuation marks, only underscores. The Rotten Tomatoes link of this movie is https://www.rottentomatoes.com/m/jumanji_welcome_to_the_jungle/."
   ]
  },
  {
   "cell_type": "code",
   "execution_count": 12,
   "metadata": {
    "ExecuteTime": {
     "end_time": "2018-04-18T01:53:26.844526Z",
     "start_time": "2018-04-18T01:53:26.836494Z"
    }
   },
   "outputs": [
    {
     "data": {
      "text/plain": [
       "'the_greatest_showman'"
      ]
     },
     "execution_count": 12,
     "metadata": {},
     "output_type": "execute_result"
    }
   ],
   "source": [
    "linkified = first_title.lower()                 # 1: make the text lowercase\n",
    "linkified = re.sub('[!?.\\'\",:]', '', linkified) # 2: remove punctuation marks\n",
    "linkified = re.sub('[ -]', '_', linkified)      # 3: turn spaces or dashes into underscores\n",
    "linkified                                       # 4: voila."
   ]
  },
  {
   "cell_type": "markdown",
   "metadata": {},
   "source": [
    "**We can start building the Rotten Tomatoes URL of the movie!**\n",
    "\n",
    "All movies on Rotten Tomatoes start with this format."
   ]
  },
  {
   "cell_type": "code",
   "execution_count": 13,
   "metadata": {
    "ExecuteTime": {
     "end_time": "2018-04-18T01:53:26.851028Z",
     "start_time": "2018-04-18T01:53:26.847389Z"
    },
    "collapsed": true
   },
   "outputs": [],
   "source": [
    "base_url = 'https://www.rottentomatoes.com/m/'"
   ]
  },
  {
   "cell_type": "markdown",
   "metadata": {},
   "source": [
    "**However, there are two possible Rotten Tomatoes URLs; so, we need to try both.**\n",
    "\n",
    "Some movies have years at the end to disambiguate different movie versions so we'll need to try multiple versions of links. (An example is Wonder Woman, which has [a recent version](https://www.rottentomatoes.com/m/wonder_woman_2017) and [an older animated version](https://www.rottentomatoes.com/m/wonder_woman).)\n",
    "\n",
    "We'll first try the link with `_2017` at the end -- if it works, then that's the one we need. Otherwise, we'll try the title as is; if this still fails, then it doesn't follow the \"base format\" and will need more careful parsing."
   ]
  },
  {
   "cell_type": "code",
   "execution_count": 14,
   "metadata": {
    "ExecuteTime": {
     "end_time": "2018-04-18T01:53:28.112892Z",
     "start_time": "2018-04-18T01:53:26.853825Z"
    }
   },
   "outputs": [
    {
     "name": "stdout",
     "output_type": "stream",
     "text": [
      "https://www.rottentomatoes.com/m/the_greatest_showman_2017\n"
     ]
    }
   ],
   "source": [
    "url_a = base_url + linkified + '_2017'\n",
    "url_b = base_url + linkified\n",
    "\n",
    "# if the first one works, then that's the URL of the movie.\n",
    "if requests.get(url_a).status_code == 200:\n",
    "    url = url_a\n",
    "\n",
    "# otherwise, try the link without the year.\n",
    "elif requests.get(url_b).status_code == 200:\n",
    "    url = url_b\n",
    "    \n",
    "# if both didn't work, we'll have to prepare the link manually.\n",
    "else:\n",
    "    url = 'no link'\n",
    "    \n",
    "print(url)"
   ]
  },
  {
   "cell_type": "markdown",
   "metadata": {},
   "source": [
    "**Let's put the code we've written into a loop.**\n",
    "\n",
    "We'll repeat what we did for the first link unto every other link in the page."
   ]
  },
  {
   "cell_type": "code",
   "execution_count": 15,
   "metadata": {
    "ExecuteTime": {
     "end_time": "2018-04-18T01:54:34.350188Z",
     "start_time": "2018-04-18T01:53:28.116587Z"
    },
    "scrolled": false
   },
   "outputs": [
    {
     "name": "stdout",
     "output_type": "stream",
     "text": [
      "processing  1/50: The Greatest Showman\n",
      "processing  2/50: You Were Never Really Here\n",
      "processing  3/50: Jumanji: Welcome to the Jungle\n",
      "processing  4/50: Star Wars: Episode VIII - The Last Jedi\n",
      "=== Star Wars: Episode VIII - The Last Jedi failed ===\n",
      "processing  5/50: Thor: Ragnarok\n",
      "processing  6/50: The Shape of Water\n",
      "processing  7/50: Hostiles\n",
      "processing  8/50: Justice League\n",
      "processing  9/50: Coco\n",
      "processing 10/50: Ghost Stories\n",
      "processing 11/50: Molly's Game\n",
      "processing 12/50: Hot Summer Nights\n",
      "processing 13/50: Chappaquiddick\n",
      "processing 14/50: Three Billboards Outside Ebbing, Missouri\n",
      "processing 15/50: All the Money in the World\n",
      "processing 16/50: Pitch Perfect 3\n",
      "processing 17/50: The Post\n",
      "processing 18/50: Murder on the Orient Express\n",
      "processing 19/50: Spider-Man: Homecoming\n",
      "processing 20/50: It\n",
      "processing 21/50: Blade Runner 2049\n",
      "processing 22/50: Órbita 9\n",
      "processing 23/50: Ferdinand\n",
      "processing 24/50: Call Me by Your Name\n",
      "processing 25/50: Get Out\n",
      "processing 26/50: Wonder\n",
      "processing 27/50: Guardians of the Galaxy Vol. 2\n",
      "processing 28/50: Wonder Woman\n",
      "processing 29/50: I, Tonya\n",
      "processing 30/50: Phantom Thread\n",
      "processing 31/50: Submergence\n",
      "processing 32/50: The Death of Stalin\n",
      "processing 33/50: Valerian and the City of a Thousand Planets\n",
      "processing 34/50: Lady Bird\n",
      "processing 35/50: I Kill Giants\n",
      "processing 36/50: Downsizing\n",
      "processing 37/50: Despicable Me 3\n",
      "processing 38/50: Wind River\n",
      "processing 39/50: Father Figures\n",
      "processing 40/50: Atomic Blonde\n",
      "processing 41/50: Baby Driver\n",
      "processing 42/50: The Florida Project\n",
      "processing 43/50: Darkest Hour\n",
      "processing 44/50: Disobedience\n",
      "processing 45/50: Alien: Covenant\n",
      "processing 46/50: Dunkirk\n",
      "processing 47/50: Baywatch\n",
      "processing 48/50: Borg McEnroe\n",
      "=== Borg McEnroe failed ===\n",
      "processing 49/50: The Killing of a Sacred Deer\n",
      "processing 50/50: The Disaster Artist\n",
      "Movies with links: 48\n",
      "Others (no links): 2\n"
     ]
    }
   ],
   "source": [
    "links = []\n",
    "no_links = []\n",
    "\n",
    "for i,row in enumerate(rows):\n",
    "    # get the title\n",
    "    title = row.a.text    \n",
    "    \n",
    "    # so we know what's happening\n",
    "    print('processing {:>2}/{:>2}: {}'.format(i+1, len(rows), title))\n",
    "    \n",
    "    # process the link\n",
    "    linkified = title.lower()\n",
    "    linkified = re.sub('[!?.\\'\",:]', '', linkified)\n",
    "    linkified = re.sub('[ -]', '_', linkified)\n",
    "    \n",
    "    # try the URLs\n",
    "    url_a = base_url + linkified + '_2017'\n",
    "    url_b = base_url + linkified\n",
    "\n",
    "    # if the first one works, then that's the URL of the movie.\n",
    "    if requests.get(url_a).status_code == 200:\n",
    "        links.append(url_a)\n",
    "\n",
    "    # otherwise, try the link without the year.\n",
    "    elif requests.get(url_b).status_code == 200:\n",
    "        links.append(url_b)\n",
    "\n",
    "    # if both didn't work, we'll have to prepare the link manually.\n",
    "    else:\n",
    "        print('=== '+title+' failed ===')\n",
    "        no_links.append(row.a)\n",
    "        \n",
    "print('Movies with links: {}'.format(len(links)))\n",
    "print('Others (no links): {}'.format(len(no_links)))"
   ]
  },
  {
   "cell_type": "markdown",
   "metadata": {},
   "source": [
    "**Now, let's loop through all of the pages.**\n",
    "\n",
    "Let's expand our loop!"
   ]
  },
  {
   "cell_type": "code",
   "execution_count": 16,
   "metadata": {
    "ExecuteTime": {
     "end_time": "2018-04-18T01:54:34.357918Z",
     "start_time": "2018-04-18T01:54:34.353097Z"
    },
    "collapsed": true
   },
   "outputs": [],
   "source": [
    "NUM_PAGES = 15  # 1 page = 50 movies\n",
    "\n",
    "links = []\n",
    "no_links = []"
   ]
  },
  {
   "cell_type": "code",
   "execution_count": 17,
   "metadata": {
    "ExecuteTime": {
     "end_time": "2018-04-18T02:14:58.244076Z",
     "start_time": "2018-04-18T01:54:34.361076Z"
    },
    "code_folding": [],
    "scrolled": false
   },
   "outputs": [
    {
     "name": "stdout",
     "output_type": "stream",
     "text": [
      "now on iteration 1/15\n",
      "processing  1/50: The Greatest Showman\n",
      "processing 26/50: Wonder\n",
      "\n",
      "now on iteration 2/15\n",
      "processing  1/50: The Hitman's Bodyguard\n",
      "processing 26/50: King Arthur: Legend of the Sword\n",
      "\n",
      "now on iteration 3/15\n",
      "processing  1/50: The Big Sick\n",
      "processing 26/50: A Dog's Purpose\n",
      "\n",
      "now on iteration 4/15\n",
      "processing  1/50: Okja\n",
      "processing 26/50: Newness\n",
      "\n",
      "now on iteration 5/15\n",
      "processing  1/50: The Meyerowitz Stories (New and Selected)\n",
      "processing 26/50: My Little Pony: The Movie\n",
      "\n",
      "now on iteration 6/15\n",
      "processing  1/50: Aftermath\n",
      "processing 26/50: Rings\n",
      "\n",
      "now on iteration 7/15\n",
      "processing  1/50: The Man from Earth: Holocene\n",
      "processing 26/50: Woody Woodpecker\n",
      "\n",
      "now on iteration 8/15\n",
      "processing  1/50: First They Killed My Father\n",
      "processing 26/50: Midnighters\n",
      "\n",
      "now on iteration 9/15\n",
      "processing  1/50: Gong fu yu jia\n",
      "processing 26/50: iBoy\n",
      "\n",
      "now on iteration 10/15\n",
      "processing  1/50: Fun Mom Dinner\n",
      "processing 26/50: Hampstead\n",
      "\n",
      "now on iteration 11/15\n",
      "processing  1/50: Qarib Qarib Singlle\n",
      "processing 26/50: Like Me\n",
      "\n",
      "now on iteration 12/15\n",
      "processing  1/50: Heartthrob\n",
      "processing 26/50: Don't Talk to Irene\n",
      "\n",
      "now on iteration 13/15\n",
      "processing  1/50: Dragonheart: Battle for the Heartfire\n",
      "processing 26/50: Lies We Tell\n",
      "\n",
      "now on iteration 14/15\n",
      "processing  1/50: This Is Your Death\n",
      "processing 26/50: Fukrey Returns\n",
      "\n",
      "now on iteration 15/15\n",
      "processing  1/50: November\n",
      "processing 26/50: Deep\n",
      "\n",
      "Movies with links: 645\n",
      "Others (no links): 105\n"
     ]
    }
   ],
   "source": [
    "for i in range(1,NUM_PAGES+1):   # recall that range(1,4) yields 1,2,3.\n",
    "    alert = 'now on iteration {}/{}'.format(i, NUM_PAGES)\n",
    "    print(alert)\n",
    "    \n",
    "    page = BeautifulSoup(requests.get(movies_2017_url.format(i)).text, 'lxml')\n",
    "    rows = page.find_all(class_='lister-item-content')\n",
    "    \n",
    "    for j,row in enumerate(rows):\n",
    "        # get the title\n",
    "        title = row.a.text    \n",
    "\n",
    "        # so we know what's happening\n",
    "        if j%25==0:\n",
    "            print('processing {:>2}/{:>2}: {}'.format(j+1, len(rows), title))\n",
    "\n",
    "        # process the link\n",
    "        linkified = title.lower()\n",
    "        linkified = re.sub('[!?.\\'\",:]', '', linkified)\n",
    "        linkified = re.sub('[ -]', '_', linkified)\n",
    "\n",
    "        # try the URLs\n",
    "        url_a = base_url + linkified + '_2017'\n",
    "        url_b = base_url + linkified\n",
    "\n",
    "        # if the first one works, then that's the URL of the movie.\n",
    "        if requests.get(url_a).status_code == 200:\n",
    "            links.append(url_a)\n",
    "\n",
    "        # otherwise, try the link without the year.\n",
    "        elif requests.get(url_b).status_code == 200:\n",
    "            links.append(url_b)\n",
    "\n",
    "        # if both didn't work, we'll have to prepare the link manually.\n",
    "        else:\n",
    "            no_links.append(row.a)\n",
    "        \n",
    "        if len(links)==5000:\n",
    "            break\n",
    "            \n",
    "    print()\n",
    "    \n",
    "print('Movies with links: {}'.format(len(links)))\n",
    "print('Others (no links): {}'.format(len(no_links)))"
   ]
  },
  {
   "cell_type": "markdown",
   "metadata": {},
   "source": [
    "**We now have a lot of Rotten Tomatoes links!**\n",
    "\n",
    "Let's check what the top 5 links look like."
   ]
  },
  {
   "cell_type": "code",
   "execution_count": 18,
   "metadata": {
    "ExecuteTime": {
     "end_time": "2018-04-18T02:14:58.252547Z",
     "start_time": "2018-04-18T02:14:58.246602Z"
    }
   },
   "outputs": [
    {
     "name": "stdout",
     "output_type": "stream",
     "text": [
      "https://www.rottentomatoes.com/m/the_greatest_showman_2017\n",
      "https://www.rottentomatoes.com/m/you_were_never_really_here_2017\n",
      "https://www.rottentomatoes.com/m/jumanji_welcome_to_the_jungle\n",
      "https://www.rottentomatoes.com/m/thor_ragnarok_2017\n",
      "https://www.rottentomatoes.com/m/the_shape_of_water_2017\n"
     ]
    }
   ],
   "source": [
    "for link in links[:5]:\n",
    "    print(link)"
   ]
  },
  {
   "cell_type": "markdown",
   "metadata": {},
   "source": [
    "*Nice;* the links work perfectly!"
   ]
  },
  {
   "cell_type": "markdown",
   "metadata": {
    "collapsed": true
   },
   "source": [
    "**We can save our links so we won't have to run this loop again in the future.**\n",
    "\n",
    "The `w` argument means we will be writing to the file."
   ]
  },
  {
   "cell_type": "code",
   "execution_count": 19,
   "metadata": {
    "ExecuteTime": {
     "end_time": "2018-04-18T02:14:58.272584Z",
     "start_time": "2018-04-18T02:14:58.255836Z"
    },
    "collapsed": true
   },
   "outputs": [],
   "source": [
    "# Save our links to a file for safe keeping\n",
    "with open('links_found.txt', 'w') as output:\n",
    "    for val in links:\n",
    "        output.write(str(val) + '\\n')\n",
    "        \n",
    "with open('no_links_found.txt', 'w') as output:\n",
    "    for val in no_links:\n",
    "        output.write(str(val) + '\\n')\n",
    "        \n",
    "# # How to read the files you just saved.\n",
    "# with open('links_found_15.txt') as f:\n",
    "#     links = f.read().split('\\n')"
   ]
  },
  {
   "cell_type": "markdown",
   "metadata": {},
   "source": [
    "---"
   ]
  },
  {
   "cell_type": "markdown",
   "metadata": {},
   "source": [
    "# Time to get the data!\n",
    "\n",
    "We now have a list of Rotten Tomatoes URLs! Our next task is to scrape each of those web pages.\n",
    "\n",
    "But first, to demonstrate what each iteration of our loop will do, let's process a single movie first; and we'll try one that is not in our list: Black Panther.\n",
    "\n",
    "Let's see the [features](https://en.wikipedia.org/wiki/Feature_(machine_learning)) we can get from the pages:"
   ]
  },
  {
   "cell_type": "markdown",
   "metadata": {},
   "source": [
    "![Black Panther was the hit Marvel movie at the time this was made.](2-black-panther-pic-labelled.png)\n",
    "\n",
    "*Black Panther Rotten Tomatoes page*\n",
    "\n",
    "---\n",
    "\n",
    "![Scrolling down the Black Panther page](3-black-panther-pic-2-labelled.png)\n",
    "\n",
    "*That same page, scrolled down.*\n",
    "\n",
    "---\n",
    "\n",
    "We can see we have 17 features -- add the link, and we'll have 18 features to play with!"
   ]
  },
  {
   "cell_type": "markdown",
   "metadata": {},
   "source": [
    "## What each iteration of the loop looks like\n",
    "\n",
    "Again, we'll be using a movie that isn't in our list of 2017 movies."
   ]
  },
  {
   "cell_type": "code",
   "execution_count": 20,
   "metadata": {
    "ExecuteTime": {
     "end_time": "2018-04-18T02:14:58.279554Z",
     "start_time": "2018-04-18T02:14:58.275543Z"
    },
    "collapsed": true
   },
   "outputs": [],
   "source": [
    "link = 'https://www.rottentomatoes.com/m/black_panther_2018'"
   ]
  },
  {
   "cell_type": "markdown",
   "metadata": {},
   "source": [
    "**Let's make some soup.**\n",
    "\n",
    "A lot of these processes will be similar to the previous step's."
   ]
  },
  {
   "cell_type": "code",
   "execution_count": 21,
   "metadata": {
    "ExecuteTime": {
     "end_time": "2018-04-18T02:14:58.875456Z",
     "start_time": "2018-04-18T02:14:58.282407Z"
    },
    "collapsed": true
   },
   "outputs": [],
   "source": [
    "soup = BeautifulSoup(requests.get(link).text, 'lxml')"
   ]
  },
  {
   "cell_type": "markdown",
   "metadata": {},
   "source": [
    "**Time to extract each feature we wanted.**\n",
    "\n",
    "Some knowledge about [regular expressions](https://www.regular-expressions.info/) and some knowledge of [CSS selectors](https://www.w3schools.com/cssref/css_selectors.asp) (specifically the [nth-of-type](https://developer.mozilla.org/en-US/docs/Web/CSS/%3Anth-of-type)) will aid you greatly."
   ]
  },
  {
   "cell_type": "markdown",
   "metadata": {
    "ExecuteTime": {
     "end_time": "2018-03-27T08:44:04.825391Z",
     "start_time": "2018-03-27T08:44:04.816895Z"
    }
   },
   "source": [
    "### Feature 0: Title of the movie\n",
    "\n",
    "There are multiple choices to obtain this, but the one from the `title` tag of the web page was chosen.\n",
    "\n",
    "*Note: `xa0` is part of `soup.title.text.split` for some reason, so that extra bit of code is to get _just_ the title of the movie.*"
   ]
  },
  {
   "cell_type": "code",
   "execution_count": 22,
   "metadata": {
    "ExecuteTime": {
     "end_time": "2018-04-18T02:14:58.886209Z",
     "start_time": "2018-04-18T02:14:58.878052Z"
    },
    "scrolled": true
   },
   "outputs": [
    {
     "data": {
      "text/plain": [
       "'Black Panther'"
      ]
     },
     "execution_count": 22,
     "metadata": {},
     "output_type": "execute_result"
    }
   ],
   "source": [
    "# title of the movie\n",
    "movie_title = soup.title.text.split('\\xa0')[0]\n",
    "movie_title"
   ]
  },
  {
   "cell_type": "markdown",
   "metadata": {},
   "source": [
    "**The first half of features are all in a single `div` element called `scorePanel`.**\n",
    "\n",
    "So, let's extract that first to make our job easier."
   ]
  },
  {
   "cell_type": "code",
   "execution_count": 23,
   "metadata": {
    "ExecuteTime": {
     "end_time": "2018-04-18T02:14:58.922024Z",
     "start_time": "2018-04-18T02:14:58.889620Z"
    }
   },
   "outputs": [
    {
     "name": "stdout",
     "output_type": "stream",
     "text": [
      "<div class=\"score_panel col-sm-17 col-xs-15\" id=\"scorePanel\">\n",
      " <div class=\"col-sm-16 col-xs-12 tmeter-panel\">\n",
      "  <ul class=\"pull-right hidden-xs\" role=\"tablist\">\n",
      "   <li class=\"active pull-left critics-score\">\n",
      "    <a class=\"articleLink unstyled smaller gray superPageFontColor\" data-toggle=\"tab\" href=\"#all-critics-numbers\" role=\"tab\">\n",
      "     All Critics\n",
      "    </a>\n",
      "   </li>\n",
      "   <li class=\"pull-left superPa\n"
     ]
    }
   ],
   "source": [
    "score_panel = soup.find(id='scorePanel')\n",
    "print(score_panel.prettify()[:400])"
   ]
  },
  {
   "cell_type": "markdown",
   "metadata": {},
   "source": [
    "**Tomatometer and Audience Score**\n",
    "\n",
    "Both of these `span` elements share the same `class`; we can use that to our advantage."
   ]
  },
  {
   "cell_type": "code",
   "execution_count": 24,
   "metadata": {
    "ExecuteTime": {
     "end_time": "2018-04-18T02:14:58.941094Z",
     "start_time": "2018-04-18T02:14:58.925706Z"
    }
   },
   "outputs": [
    {
     "data": {
      "text/plain": [
       "[<span class=\"meter-value superPageFontColor\"><span>96</span>%</span>,\n",
       " <span class=\"meter-value superPageFontColor\"><span>100</span>%</span>,\n",
       " <div class=\"meter-value\">\n",
       " <span class=\"superPageFontColor\" style=\"vertical-align:top\">79%</span>\n",
       " </div>]"
      ]
     },
     "execution_count": 24,
     "metadata": {},
     "output_type": "execute_result"
    }
   ],
   "source": [
    "meter_values = score_panel.find_all(class_='meter-value')\n",
    "meter_values"
   ]
  },
  {
   "cell_type": "markdown",
   "metadata": {},
   "source": [
    "### Feature 1: Tomatometer Score\n",
    "\n",
    "It's the first `span` element within `meter_values`."
   ]
  },
  {
   "cell_type": "code",
   "execution_count": 25,
   "metadata": {
    "ExecuteTime": {
     "end_time": "2018-04-18T02:14:58.951244Z",
     "start_time": "2018-04-18T02:14:58.944178Z"
    }
   },
   "outputs": [
    {
     "data": {
      "text/plain": [
       "96"
      ]
     },
     "execution_count": 25,
     "metadata": {},
     "output_type": "execute_result"
    }
   ],
   "source": [
    "tom = int(meter_values[0].span.text)\n",
    "tom"
   ]
  },
  {
   "cell_type": "markdown",
   "metadata": {},
   "source": [
    "### Feature 2: Audience Score\n",
    "\n",
    "It's the _last_ `span` element within the same `meter_values`.\n",
    "\n",
    "(The middle `span` element is for the red meter visual above the Critics Consensus.)"
   ]
  },
  {
   "cell_type": "code",
   "execution_count": 26,
   "metadata": {
    "ExecuteTime": {
     "end_time": "2018-04-18T02:14:58.964028Z",
     "start_time": "2018-04-18T02:14:58.956048Z"
    }
   },
   "outputs": [
    {
     "data": {
      "text/plain": [
       "79"
      ]
     },
     "execution_count": 26,
     "metadata": {},
     "output_type": "execute_result"
    }
   ],
   "source": [
    "aud = meter_values[-1].span.text # returns 79%\n",
    "aud = int(aud.replace('%', ''))  # remove %, parse to an int\n",
    "aud"
   ]
  },
  {
   "cell_type": "markdown",
   "metadata": {},
   "source": [
    "**Features 3-6 are in a `div` element called `scoreStats`.**\n",
    "\n",
    "That means we can get Average Rating, Reviews Counted, and numbers of Fresh and Rotten in one go!"
   ]
  },
  {
   "cell_type": "code",
   "execution_count": 27,
   "metadata": {
    "ExecuteTime": {
     "end_time": "2018-04-18T02:14:58.980253Z",
     "start_time": "2018-04-18T02:14:58.967112Z"
    }
   },
   "outputs": [
    {
     "data": {
      "text/plain": [
       "[<span class=\"subtle superPageFontColor\">Average Rating: </span>,\n",
       " <span class=\"subtle superPageFontColor\">Reviews Counted: </span>,\n",
       " <span>367</span>,\n",
       " <span class=\"subtle superPageFontColor audience-info\">Fresh: </span>,\n",
       " <span>354</span>,\n",
       " <span class=\"subtle superPageFontColor audience-info\">Rotten: </span>,\n",
       " <span>13</span>]"
      ]
     },
     "execution_count": 27,
     "metadata": {},
     "output_type": "execute_result"
    }
   ],
   "source": [
    "score_spans = score_panel.find(id='scoreStats').find_all('span')\n",
    "score_spans"
   ]
  },
  {
   "cell_type": "markdown",
   "metadata": {},
   "source": [
    "### Feature 3: Tomatometer Average Rating\n",
    "\n",
    "The first `span` element contained the number.\n",
    "\n",
    "We'll extract just the actual score and convert it into a `float`."
   ]
  },
  {
   "cell_type": "code",
   "execution_count": 28,
   "metadata": {
    "ExecuteTime": {
     "end_time": "2018-04-18T02:14:58.994631Z",
     "start_time": "2018-04-18T02:14:58.984280Z"
    }
   },
   "outputs": [
    {
     "data": {
      "text/plain": [
       "8.2"
      ]
     },
     "execution_count": 28,
     "metadata": {},
     "output_type": "execute_result"
    }
   ],
   "source": [
    "tom_ave_rating = float(score_spans[0].next_sibling.strip().split('/')[0])\n",
    "tom_ave_rating"
   ]
  },
  {
   "cell_type": "markdown",
   "metadata": {},
   "source": [
    "### Feature 4: Number of Reviews in Tomatometer\n",
    "\n",
    "We get our next feature from the `span` at index _2_, not 1. Don't forget to parse to `int`."
   ]
  },
  {
   "cell_type": "code",
   "execution_count": 29,
   "metadata": {
    "ExecuteTime": {
     "end_time": "2018-04-18T02:14:59.016333Z",
     "start_time": "2018-04-18T02:14:59.005686Z"
    }
   },
   "outputs": [
    {
     "data": {
      "text/plain": [
       "367"
      ]
     },
     "execution_count": 29,
     "metadata": {},
     "output_type": "execute_result"
    }
   ],
   "source": [
    "tom_num_reviews = int(score_spans[2].text)\n",
    "tom_num_reviews"
   ]
  },
  {
   "cell_type": "markdown",
   "metadata": {},
   "source": [
    "### Feature 5: Number of \"Fresh\" Ratings\n",
    "\n",
    "_Fresh, fresh, baby!_"
   ]
  },
  {
   "cell_type": "code",
   "execution_count": 30,
   "metadata": {
    "ExecuteTime": {
     "end_time": "2018-04-18T02:14:59.032784Z",
     "start_time": "2018-04-18T02:14:59.022767Z"
    }
   },
   "outputs": [
    {
     "data": {
      "text/plain": [
       "354"
      ]
     },
     "execution_count": 30,
     "metadata": {},
     "output_type": "execute_result"
    }
   ],
   "source": [
    "tom_fresh = int(score_spans[4].text)\n",
    "tom_fresh"
   ]
  },
  {
   "cell_type": "markdown",
   "metadata": {},
   "source": [
    "### Feature 6: Number of \"Rotten\" Ratings\n",
    "\n",
    "`raw + 10`"
   ]
  },
  {
   "cell_type": "code",
   "execution_count": 31,
   "metadata": {
    "ExecuteTime": {
     "end_time": "2018-04-18T02:14:59.042527Z",
     "start_time": "2018-04-18T02:14:59.035581Z"
    }
   },
   "outputs": [
    {
     "data": {
      "text/plain": [
       "13"
      ]
     },
     "execution_count": 31,
     "metadata": {},
     "output_type": "execute_result"
    }
   ],
   "source": [
    "tom_rotten = int(score_spans[6].text)\n",
    "tom_rotten"
   ]
  },
  {
   "cell_type": "markdown",
   "metadata": {},
   "source": [
    "**The accompanying content of Audience Score are in the last `audience-info`.**\n",
    "\n",
    "There are other `div` elements that have the same `class`, so we must specify that we want the last."
   ]
  },
  {
   "cell_type": "code",
   "execution_count": 32,
   "metadata": {
    "ExecuteTime": {
     "end_time": "2018-04-18T02:14:59.060361Z",
     "start_time": "2018-04-18T02:14:59.046861Z"
    }
   },
   "outputs": [
    {
     "data": {
      "text/plain": [
       "<div class=\"audience-info hidden-xs superPageFontColor\">\n",
       "<div>\n",
       "<span class=\"subtle superPageFontColor\">Average Rating:</span>\n",
       "            4.1/5\n",
       "                </div>\n",
       "<div>\n",
       "<span class=\"subtle superPageFontColor\">User Ratings:</span>\n",
       "        75,883</div>\n",
       "</div>"
      ]
     },
     "execution_count": 32,
     "metadata": {},
     "output_type": "execute_result"
    }
   ],
   "source": [
    "audience_panel = score_panel.find_all(class_='audience-info')[-1]\n",
    "audience_panel"
   ]
  },
  {
   "cell_type": "markdown",
   "metadata": {},
   "source": [
    "**The numbers are not in any HTML tags!**\n",
    "\n",
    "We can observe, however, that both numbers are after span elements. So let's start with selecting the span elements."
   ]
  },
  {
   "cell_type": "code",
   "execution_count": 33,
   "metadata": {
    "ExecuteTime": {
     "end_time": "2018-04-18T02:14:59.070800Z",
     "start_time": "2018-04-18T02:14:59.063083Z"
    },
    "scrolled": true
   },
   "outputs": [
    {
     "data": {
      "text/plain": [
       "[<span class=\"subtle superPageFontColor\">Average Rating:</span>,\n",
       " <span class=\"subtle superPageFontColor\">User Ratings:</span>]"
      ]
     },
     "execution_count": 33,
     "metadata": {},
     "output_type": "execute_result"
    }
   ],
   "source": [
    "# audience average rating\n",
    "audience_panel = audience_panel.find_all('span')\n",
    "audience_panel"
   ]
  },
  {
   "cell_type": "markdown",
   "metadata": {},
   "source": [
    "### Feature 7: Audience Score Average Rating\n",
    "\n",
    "We access the label of \"Average Rating:\" and get the text right after it using `next_sibling`, which are our numbers. Don't forget to parse afterwards!"
   ]
  },
  {
   "cell_type": "code",
   "execution_count": 34,
   "metadata": {
    "ExecuteTime": {
     "end_time": "2018-04-18T02:14:59.083041Z",
     "start_time": "2018-04-18T02:14:59.074003Z"
    }
   },
   "outputs": [
    {
     "data": {
      "text/plain": [
       "4.1"
      ]
     },
     "execution_count": 34,
     "metadata": {},
     "output_type": "execute_result"
    }
   ],
   "source": [
    "aud_ave_rating = audience_panel[0].next_sibling.strip().split('/')[0]\n",
    "aud_ave_rating = float(aud_ave_rating)\n",
    "aud_ave_rating"
   ]
  },
  {
   "cell_type": "markdown",
   "metadata": {},
   "source": [
    "### Feature 8: Audience Score Number of Ratings\n",
    "\n",
    "We do the same thing as in the previous feature."
   ]
  },
  {
   "cell_type": "code",
   "execution_count": 35,
   "metadata": {
    "ExecuteTime": {
     "end_time": "2018-04-18T02:14:59.099197Z",
     "start_time": "2018-04-18T02:14:59.085318Z"
    }
   },
   "outputs": [
    {
     "data": {
      "text/plain": [
       "75883"
      ]
     },
     "execution_count": 35,
     "metadata": {},
     "output_type": "execute_result"
    }
   ],
   "source": [
    "# audience number of ratings\n",
    "aud_num_ratings = audience_panel[1].next_sibling.strip().split('/')[0]\n",
    "aud_num_ratings = int(aud_num_ratings.replace(',', ''))\n",
    "aud_num_ratings"
   ]
  },
  {
   "cell_type": "markdown",
   "metadata": {},
   "source": [
    "**The rest of our features are a bit funkier.**\n",
    "\n",
    "This next part will need to be a bit more dynamic, as some of these information might be missing for certain movies -- especially the ones that're less mainstream, or some movies that were later found to be streaming movies, but still part of this list."
   ]
  },
  {
   "cell_type": "markdown",
   "metadata": {},
   "source": [
    "---\n",
    "\n",
    "**In fact, even a popular movie like Coco can lack movie information!**\n",
    "\n",
    "Here's Jumanji's movie information:\n",
    "\n",
    "![Check out Jumanji's movie info.](4-jumanji-movie-info.png)\n",
    "\n",
    "Coco:\n",
    "\n",
    "![Check out Coco's movie info.](5-coco-movie-info.png)\n",
    "\n",
    "---\n",
    "\n",
    "**So, we need to account for both the label (e.g. \"Rating\"), and the actual value (e.g. \"R-18\").**\n",
    "\n",
    "But a solution will slowly reveal itself after looking through the source code!"
   ]
  },
  {
   "cell_type": "markdown",
   "metadata": {},
   "source": [
    "**All the headers are in `meta-label`.**\n",
    "\n",
    "After some string processing, we can put them into a neat list."
   ]
  },
  {
   "cell_type": "code",
   "execution_count": 36,
   "metadata": {
    "ExecuteTime": {
     "end_time": "2018-04-18T02:14:59.167321Z",
     "start_time": "2018-04-18T02:14:59.102029Z"
    }
   },
   "outputs": [
    {
     "data": {
      "text/plain": [
       "['Rating',\n",
       " 'Genre',\n",
       " 'Directed By',\n",
       " 'Written By',\n",
       " 'In Theaters',\n",
       " 'Box Office',\n",
       " 'Runtime',\n",
       " 'Studio']"
      ]
     },
     "execution_count": 36,
     "metadata": {},
     "output_type": "execute_result"
    }
   ],
   "source": [
    "movie_info_headers = soup.find_all(class_='meta-label')\n",
    "movie_info_headers = [x.text.split(':')[0] for x in movie_info_headers] # split the string at : and get the first.\n",
    "movie_info_headers"
   ]
  },
  {
   "cell_type": "markdown",
   "metadata": {},
   "source": [
    "**All the values, meanwhile, are in `meta-value`!**\n",
    "\n",
    "Let's put them into a list as well!"
   ]
  },
  {
   "cell_type": "code",
   "execution_count": 37,
   "metadata": {
    "ExecuteTime": {
     "end_time": "2018-04-18T02:14:59.251386Z",
     "start_time": "2018-04-18T02:14:59.170207Z"
    }
   },
   "outputs": [
    {
     "data": {
      "text/plain": [
       "['PG-13 (for prolonged sequences of action violence, and a brief rude gesture)',\n",
       " 'Action & Adventure, \\n                        Drama, \\n                        Science Fiction & Fantasy',\n",
       " 'Ryan Coogler',\n",
       " 'Joe Robert Cole, Ryan Coogler',\n",
       " 'Feb 16, 2018\\n\\xa0wide',\n",
       " '$501,105,037',\n",
       " '135 minutes',\n",
       " 'Marvel Studios']"
      ]
     },
     "execution_count": 37,
     "metadata": {},
     "output_type": "execute_result"
    }
   ],
   "source": [
    "movie_info_values = soup.find_all(class_='meta-value')\n",
    "movie_info_values = [x.text.strip() for x in movie_info_values]\n",
    "movie_info_values"
   ]
  },
  {
   "cell_type": "markdown",
   "metadata": {},
   "source": [
    "### Headers 9 to N.\n",
    "\n",
    "We can look at the headers and values in tandem using `zip`.\n",
    "\n",
    "Afterwards, we need `if` statements because if we just assume everything's there, it'll cause our script to crash."
   ]
  },
  {
   "cell_type": "code",
   "execution_count": 38,
   "metadata": {
    "ExecuteTime": {
     "end_time": "2018-04-18T02:14:59.304879Z",
     "start_time": "2018-04-18T02:14:59.254112Z"
    },
    "scrolled": true
   },
   "outputs": [
    {
     "data": {
      "text/plain": [
       "['PG-13',\n",
       " ['Action & Adventure', 'Drama', 'Science Fiction & Fantasy'],\n",
       " 'Ryan Coogler',\n",
       " ['Joe Robert Cole, Ryan Coogler'],\n",
       " 'Feb 16, 2018',\n",
       " 501105037,\n",
       " 135,\n",
       " 'Marvel Studios']"
      ]
     },
     "execution_count": 38,
     "metadata": {},
     "output_type": "execute_result"
    }
   ],
   "source": [
    "# a list helps us so that if a feature is missing, it's\n",
    "# automatically a None (aka NaN).\n",
    "row = [None for x in range(8)]\n",
    "\n",
    "for header,value in zip(movie_info_headers, movie_info_values):\n",
    "    lowercase_header = header.lower()\n",
    "    \n",
    "    if 'rating' in lowercase_header:\n",
    "        row[0] = value.split(' ')[0]\n",
    "\n",
    "    elif 'genre' in lowercase_header:\n",
    "        # \\s+ means \"any whitespace\". So,\n",
    "        # ',\\s+' means a comma followed by any whitespace.\n",
    "        row[1] = re.split(',\\s+', value)\n",
    "    \n",
    "    elif 'directed' in lowercase_header:\n",
    "        row[2] = value\n",
    "        \n",
    "    elif 'written' in lowercase_header:\n",
    "        row[3] = value.split(',\\s+')\n",
    "        \n",
    "    elif 'theaters' in lowercase_header:\n",
    "        row[4] = value.split('\\n')[0]\n",
    "    \n",
    "    elif 'box' in lowercase_header:\n",
    "        row[5] = int(re.sub('\\$|,', '', value))\n",
    "        \n",
    "    elif 'runtime' in lowercase_header:\n",
    "        row[6] = int(value.split(' ')[0])\n",
    "        \n",
    "    elif 'studio' in lowercase_header:\n",
    "        row[7] = value\n",
    "\n",
    "row"
   ]
  },
  {
   "cell_type": "markdown",
   "metadata": {},
   "source": [
    "## Let's now fill up our whole table!\n",
    "\n",
    "*No pandas were hurt in the preparation of this table.*"
   ]
  },
  {
   "cell_type": "code",
   "execution_count": 39,
   "metadata": {
    "ExecuteTime": {
     "end_time": "2018-04-18T02:29:56.438201Z",
     "start_time": "2018-04-18T02:14:59.308185Z"
    },
    "scrolled": false
   },
   "outputs": [
    {
     "name": "stdout",
     "output_type": "stream",
     "text": [
      "now processing   1/645: https://www.rottentomatoes.com/m/the_greatest_showman_2017\n",
      "now processing  21/645: https://www.rottentomatoes.com/m/órbita_9\n",
      "now processing  41/645: https://www.rottentomatoes.com/m/the_florida_project_2017\n",
      "now processing  61/645: https://www.rottentomatoes.com/m/john_wick_chapter_2\n",
      "now processing  81/645: https://www.rottentomatoes.com/m/xxx_return_of_xander_cage\n",
      "now processing 101/645: https://www.rottentomatoes.com/m/ghost_in_the_shell_2017\n",
      "now processing 121/645: https://www.rottentomatoes.com/m/annabelle_creation\n",
      "now processing 141/645: https://www.rottentomatoes.com/m/finding_your_feet\n",
      "now processing 161/645: https://www.rottentomatoes.com/m/goodbye_christopher_robin\n",
      "now processing 181/645: https://www.rottentomatoes.com/m/cold_skin_2017\n",
      "now processing 201/645: https://www.rottentomatoes.com/m/war_machine\n",
      "now processing 221/645: https://www.rottentomatoes.com/m/the_lego_ninjago_movie\n",
      "now processing 241/645: https://www.rottentomatoes.com/m/woman_walks_ahead\n",
      "now processing 261/645: https://www.rottentomatoes.com/m/rings_2017\n",
      "now processing 281/645: https://www.rottentomatoes.com/m/the_rizen\n",
      "now processing 301/645: https://www.rottentomatoes.com/m/permanent_2017\n",
      "now processing 321/645: https://www.rottentomatoes.com/m/the_dinner_2017\n",
      "now processing 341/645: https://www.rottentomatoes.com/m/battlecreek\n",
      "now processing 361/645: https://www.rottentomatoes.com/m/rebel_in_the_rye\n",
      "now processing 381/645: https://www.rottentomatoes.com/m/bitch_2017\n",
      "now processing 401/645: https://www.rottentomatoes.com/m/the_strange_ones_2017\n",
      "now processing 421/645: https://www.rottentomatoes.com/m/the_ottoman_lieutenant\n",
      "now processing 441/645: https://www.rottentomatoes.com/m/viceroys_house\n",
      "now processing 461/645: https://www.rottentomatoes.com/m/getting_grace\n",
      "now processing 481/645: https://www.rottentomatoes.com/m/small_crimes_2017\n",
      "now processing 501/645: https://www.rottentomatoes.com/m/rendel\n",
      "now processing 521/645: https://www.rottentomatoes.com/m/lamant_dun_jour\n",
      "now processing 541/645: https://www.rottentomatoes.com/m/hello_again_2017\n",
      "now processing 561/645: https://www.rottentomatoes.com/m/kuleana\n",
      "now processing 581/645: https://www.rottentomatoes.com/m/the_stolen_2017\n",
      "now processing 601/645: https://www.rottentomatoes.com/m/alibicom\n",
      "now processing 621/645: https://www.rottentomatoes.com/m/syndicate_smasher\n",
      "now processing 641/645: https://www.rottentomatoes.com/m/a_few_less_men\n",
      "\n",
      "num. of successes:  444\n",
      "num. of crashes:    201\n",
      "index errors:        62\n",
      "attribute errors:     0\n",
      "value errors:       139\n"
     ]
    }
   ],
   "source": [
    "# for which movie pages does our script to get the\n",
    "# tomatometer fail?\n",
    "# is our algorithm acceptable enough?\n",
    "\n",
    "table = []\n",
    "\n",
    "# a set is used here so we can keep track of what error and where!\n",
    "err = {}\n",
    "\n",
    "for i,link in enumerate(links):\n",
    "    if i%20==0:\n",
    "        print('now processing {:>3}/{:>3}: {}'.format(i+1, len(links), link))\n",
    "\n",
    "    row = []\n",
    "    \n",
    "    try:\n",
    "        # == make soup ==\n",
    "        soup = BeautifulSoup(requests.get(link).text, 'lxml')\n",
    "\n",
    "        # === 0: title of the movie ===\n",
    "        movie_title = soup.title.text.split('\\xa0')[0]\n",
    "        row.append(movie_title)\n",
    "        \n",
    "        # our first features are all in a div, scorePanel.\n",
    "        score_panel = soup.find(id='scorePanel')\n",
    "        \n",
    "        # get tomatometer score and audience score (first and last in meter-value)\n",
    "        meter_values = score_panel.find_all(class_='meter-value')\n",
    "\n",
    "        # === 1: tomatometer ===\n",
    "        tom = int(meter_values[0].span.text)\n",
    "        row.append(tom)\n",
    "        \n",
    "        # === 2: audience meter ===\n",
    "        aud = meter_values[-1].span.text # returns 79%\n",
    "        aud = int(aud.replace('%', ''))  # remove %, parse to an int\n",
    "        row.append(aud)\n",
    "        \n",
    "        # scoreStats contains the other numbers underneath the tomatometer score\n",
    "        score_spans = score_panel.find(id='scoreStats').find_all('span')\n",
    "\n",
    "        # === 3: tomatometer average rating ===\n",
    "        tom_ave_rating = float(score_spans[0].next_sibling.strip().split('/')[0])\n",
    "        row.append(tom_ave_rating)\n",
    "        \n",
    "        # === 4: tomatometer number of reviews ===\n",
    "        tom_num_reviews = int(score_spans[2].text)\n",
    "        row.append(tom_num_reviews)\n",
    "        \n",
    "        # === 5: tomatometer number of fresh reviews===\n",
    "        tom_fresh = int(score_spans[4].text)\n",
    "        row.append(tom_fresh)\n",
    "        \n",
    "        # === 6: tomatometer number ===\n",
    "        tom_rotten = int(score_spans[6].text)\n",
    "        row.append(tom_rotten)\n",
    "        \n",
    "        # the last audience-info contains the other numbers underneath the audience score.\n",
    "        audience_panel = score_panel.find_all(class_='audience-info')[-1].find_all('span')\n",
    "        \n",
    "        # === 7: audience average rating ===\n",
    "        aud_ave_rating = audience_panel[0].next_sibling.strip().split('/')[0]\n",
    "        aud_ave_rating = float(aud_ave_rating)\n",
    "        row.append(aud_ave_rating)\n",
    "        \n",
    "        # === 8: audience number of ratings ===\n",
    "        aud_num_ratings = audience_panel[1].next_sibling.strip().split('/')[0]\n",
    "        aud_num_ratings = int(aud_num_ratings.replace(',', ''))\n",
    "        row.append(aud_num_ratings)\n",
    "        \n",
    "        # we need to dynamically scrape movie info by checking both headers...\n",
    "        movie_info_headers = soup.find_all(class_='meta-label')\n",
    "        movie_info_headers = [x.text.split(':')[0] for x in movie_info_headers]\n",
    "\n",
    "        # ...and values.\n",
    "        movie_info_values = soup.find_all(class_='meta-value')\n",
    "        movie_info_values = [x.text.strip() for x in movie_info_values]\n",
    "\n",
    "        # so we have a set number of elements, even if some stuff are missing.\n",
    "        info = [None for x in range(8)]\n",
    "\n",
    "        for header,value in zip(movie_info_headers, movie_info_values):\n",
    "            lowercase_header = header.lower()\n",
    "\n",
    "            if 'rating' in lowercase_header:\n",
    "                info[0] = value.split(' ')[0]\n",
    "\n",
    "            elif 'genre' in lowercase_header:\n",
    "                # \\s+ means \"any whitespace\". So,\n",
    "                # ',\\s+' means a comma followed by any whitespace.\n",
    "                info[1] = re.split(',\\s+', value)\n",
    "\n",
    "            elif 'directed' in lowercase_header:\n",
    "                info[2] = value\n",
    "\n",
    "            elif 'written' in lowercase_header:\n",
    "                info[3] = value.split(',\\s+')\n",
    "\n",
    "            elif 'theaters' in lowercase_header:\n",
    "                info[4] = value.split('\\n')[0]\n",
    "\n",
    "            elif 'box' in lowercase_header:\n",
    "                info[5] = int(re.sub('\\$|,', '', value))\n",
    "\n",
    "            elif 'runtime' in lowercase_header:\n",
    "                info[6] = int(value.split(' ')[0])\n",
    "\n",
    "            elif 'studio' in lowercase_header:\n",
    "                info[7] = value\n",
    "                \n",
    "        # we're using extend rather than append\n",
    "        row.extend(info)\n",
    "        \n",
    "        # let's put the link so we can check easily later\n",
    "        row.append(link)\n",
    "        \n",
    "    except IndexError:\n",
    "        err[i] = 'index'\n",
    "        continue\n",
    "        \n",
    "    except AttributeError:\n",
    "        err[i] = 'attribute'\n",
    "        continue\n",
    "        \n",
    "    except ValueError:\n",
    "        err[i] = 'value'\n",
    "        continue\n",
    "    \n",
    "    table.append(row)\n",
    "\n",
    "print()\n",
    "print('num. of successes: {:>4}'.format(len(table)))\n",
    "print('num. of crashes:   {:>4}'.format(len(err)))\n",
    "print('index errors:      {:>4}'.format(len([error for error in err if err[error]=='index'])))\n",
    "print('attribute errors:  {:>4}'.format(len([error for error in err if err[error]=='attribute'])))\n",
    "print('value errors:      {:>4}'.format(len([error for error in err if err[error]=='value'])))"
   ]
  },
  {
   "cell_type": "code",
   "execution_count": 40,
   "metadata": {
    "ExecuteTime": {
     "end_time": "2018-04-18T02:29:56.532212Z",
     "start_time": "2018-04-18T02:29:56.440748Z"
    },
    "scrolled": true
   },
   "outputs": [
    {
     "data": {
      "text/html": [
       "<div>\n",
       "<style>\n",
       "    .dataframe thead tr:only-child th {\n",
       "        text-align: right;\n",
       "    }\n",
       "\n",
       "    .dataframe thead th {\n",
       "        text-align: left;\n",
       "    }\n",
       "\n",
       "    .dataframe tbody tr th {\n",
       "        vertical-align: top;\n",
       "    }\n",
       "</style>\n",
       "<table border=\"1\" class=\"dataframe\">\n",
       "  <thead>\n",
       "    <tr style=\"text-align: right;\">\n",
       "      <th></th>\n",
       "      <th>title</th>\n",
       "      <th>tom</th>\n",
       "      <th>aud</th>\n",
       "      <th>tom_ave_rating</th>\n",
       "      <th>tom_num_reviews</th>\n",
       "      <th>tom_fresh</th>\n",
       "      <th>tom_rotten</th>\n",
       "      <th>aud_ave_rating</th>\n",
       "      <th>aud_num_ratings</th>\n",
       "      <th>age_rating</th>\n",
       "      <th>genre</th>\n",
       "      <th>director</th>\n",
       "      <th>writers</th>\n",
       "      <th>rel_date</th>\n",
       "      <th>box</th>\n",
       "      <th>runtime</th>\n",
       "      <th>studio</th>\n",
       "      <th>link</th>\n",
       "    </tr>\n",
       "  </thead>\n",
       "  <tbody>\n",
       "    <tr>\n",
       "      <th>0</th>\n",
       "      <td>The Greatest Showman</td>\n",
       "      <td>55</td>\n",
       "      <td>88</td>\n",
       "      <td>6.0</td>\n",
       "      <td>205</td>\n",
       "      <td>113</td>\n",
       "      <td>92</td>\n",
       "      <td>4.4</td>\n",
       "      <td>21776</td>\n",
       "      <td>PG</td>\n",
       "      <td>[Drama, Musical &amp; Performing Arts]</td>\n",
       "      <td>Michael Gracey</td>\n",
       "      <td>[Jenny Bicks, Bill Condon]</td>\n",
       "      <td>Dec 20, 2017</td>\n",
       "      <td>164616443.0</td>\n",
       "      <td>105.0</td>\n",
       "      <td>20th Century Fox</td>\n",
       "      <td>https://www.rottentomatoes.com/m/the_greatest_...</td>\n",
       "    </tr>\n",
       "    <tr>\n",
       "      <th>1</th>\n",
       "      <td>You Were Never Really Here</td>\n",
       "      <td>88</td>\n",
       "      <td>72</td>\n",
       "      <td>8.2</td>\n",
       "      <td>137</td>\n",
       "      <td>120</td>\n",
       "      <td>17</td>\n",
       "      <td>3.7</td>\n",
       "      <td>2183</td>\n",
       "      <td>R</td>\n",
       "      <td>[Drama, Mystery &amp; Suspense]</td>\n",
       "      <td>Lynne Ramsay</td>\n",
       "      <td>[Lynne Ramsay]</td>\n",
       "      <td>Apr 6, 2018</td>\n",
       "      <td>NaN</td>\n",
       "      <td>89.0</td>\n",
       "      <td>Amazon Studios</td>\n",
       "      <td>https://www.rottentomatoes.com/m/you_were_neve...</td>\n",
       "    </tr>\n",
       "    <tr>\n",
       "      <th>2</th>\n",
       "      <td>Jumanji: Welcome to the Jungle</td>\n",
       "      <td>76</td>\n",
       "      <td>88</td>\n",
       "      <td>6.1</td>\n",
       "      <td>185</td>\n",
       "      <td>141</td>\n",
       "      <td>44</td>\n",
       "      <td>4.4</td>\n",
       "      <td>35896</td>\n",
       "      <td>PG-13</td>\n",
       "      <td>[Action &amp; Adventure, Drama, Kids &amp; Family, Sci...</td>\n",
       "      <td>Jake Kasdan</td>\n",
       "      <td>[Chris McKenna, Erik Sommers, Scott Rosenberg,...</td>\n",
       "      <td>Dec 20, 2017</td>\n",
       "      <td>393201353.0</td>\n",
       "      <td>112.0</td>\n",
       "      <td>Columbia Pictures</td>\n",
       "      <td>https://www.rottentomatoes.com/m/jumanji_welco...</td>\n",
       "    </tr>\n",
       "    <tr>\n",
       "      <th>3</th>\n",
       "      <td>Thor: Ragnarok</td>\n",
       "      <td>92</td>\n",
       "      <td>87</td>\n",
       "      <td>7.5</td>\n",
       "      <td>332</td>\n",
       "      <td>305</td>\n",
       "      <td>27</td>\n",
       "      <td>4.2</td>\n",
       "      <td>88083</td>\n",
       "      <td>PG-13</td>\n",
       "      <td>[Action &amp; Adventure, Drama, Science Fiction &amp; ...</td>\n",
       "      <td>Taika Waititi</td>\n",
       "      <td>[Eric Pearson]</td>\n",
       "      <td>Nov 3, 2017</td>\n",
       "      <td>314971245.0</td>\n",
       "      <td>130.0</td>\n",
       "      <td>Walt Disney Pictures</td>\n",
       "      <td>https://www.rottentomatoes.com/m/thor_ragnarok...</td>\n",
       "    </tr>\n",
       "    <tr>\n",
       "      <th>4</th>\n",
       "      <td>The Shape of Water</td>\n",
       "      <td>92</td>\n",
       "      <td>74</td>\n",
       "      <td>8.4</td>\n",
       "      <td>346</td>\n",
       "      <td>318</td>\n",
       "      <td>28</td>\n",
       "      <td>3.8</td>\n",
       "      <td>22328</td>\n",
       "      <td>R</td>\n",
       "      <td>[Drama, Science Fiction &amp; Fantasy, Romance]</td>\n",
       "      <td>Guillermo del Toro</td>\n",
       "      <td>[Guillermo del Toro, Vanessa Taylor]</td>\n",
       "      <td>Dec 22, 2017</td>\n",
       "      <td>57393976.0</td>\n",
       "      <td>119.0</td>\n",
       "      <td>Fox Searchlight Pictures</td>\n",
       "      <td>https://www.rottentomatoes.com/m/the_shape_of_...</td>\n",
       "    </tr>\n",
       "    <tr>\n",
       "      <th>5</th>\n",
       "      <td>Hostiles</td>\n",
       "      <td>73</td>\n",
       "      <td>72</td>\n",
       "      <td>6.8</td>\n",
       "      <td>180</td>\n",
       "      <td>131</td>\n",
       "      <td>49</td>\n",
       "      <td>3.7</td>\n",
       "      <td>4009</td>\n",
       "      <td>R</td>\n",
       "      <td>[Action &amp; Adventure, Drama, Western]</td>\n",
       "      <td>Scott Cooper</td>\n",
       "      <td>[Scott Cooper]</td>\n",
       "      <td>Jan 26, 2018</td>\n",
       "      <td>29472340.0</td>\n",
       "      <td>135.0</td>\n",
       "      <td>Entertainment Studios Motion Pictures</td>\n",
       "      <td>https://www.rottentomatoes.com/m/hostiles</td>\n",
       "    </tr>\n",
       "    <tr>\n",
       "      <th>6</th>\n",
       "      <td>Justice League</td>\n",
       "      <td>40</td>\n",
       "      <td>75</td>\n",
       "      <td>5.3</td>\n",
       "      <td>313</td>\n",
       "      <td>126</td>\n",
       "      <td>187</td>\n",
       "      <td>3.9</td>\n",
       "      <td>123478</td>\n",
       "      <td>PG-13</td>\n",
       "      <td>[Action &amp; Adventure, Drama, Science Fiction &amp; ...</td>\n",
       "      <td>Zack Snyder</td>\n",
       "      <td>[Chris Terrio, Joss Whedon]</td>\n",
       "      <td>Nov 17, 2017</td>\n",
       "      <td>227032490.0</td>\n",
       "      <td>110.0</td>\n",
       "      <td>Warner Bros. Pictures</td>\n",
       "      <td>https://www.rottentomatoes.com/m/justice_leagu...</td>\n",
       "    </tr>\n",
       "    <tr>\n",
       "      <th>7</th>\n",
       "      <td>Coco</td>\n",
       "      <td>97</td>\n",
       "      <td>94</td>\n",
       "      <td>8.2</td>\n",
       "      <td>273</td>\n",
       "      <td>265</td>\n",
       "      <td>8</td>\n",
       "      <td>4.6</td>\n",
       "      <td>23818</td>\n",
       "      <td>PG</td>\n",
       "      <td>[Action &amp; Adventure, Animation, Comedy]</td>\n",
       "      <td>Lee Unkrich, Adrian Molina</td>\n",
       "      <td>[Matthew Aldrich, Adrian Molina]</td>\n",
       "      <td>Nov 22, 2017</td>\n",
       "      <td>208487719.0</td>\n",
       "      <td>NaN</td>\n",
       "      <td>Disney/Pixar</td>\n",
       "      <td>https://www.rottentomatoes.com/m/coco_2017</td>\n",
       "    </tr>\n",
       "    <tr>\n",
       "      <th>8</th>\n",
       "      <td>Molly's Game</td>\n",
       "      <td>82</td>\n",
       "      <td>84</td>\n",
       "      <td>7.2</td>\n",
       "      <td>241</td>\n",
       "      <td>198</td>\n",
       "      <td>43</td>\n",
       "      <td>3.9</td>\n",
       "      <td>10147</td>\n",
       "      <td>R</td>\n",
       "      <td>[Drama]</td>\n",
       "      <td>Aaron Sorkin</td>\n",
       "      <td>[Aaron Sorkin]</td>\n",
       "      <td>Jan 5, 2018</td>\n",
       "      <td>28744803.0</td>\n",
       "      <td>140.0</td>\n",
       "      <td>STXfilms</td>\n",
       "      <td>https://www.rottentomatoes.com/m/mollys_game_2017</td>\n",
       "    </tr>\n",
       "    <tr>\n",
       "      <th>9</th>\n",
       "      <td>Chappaquiddick</td>\n",
       "      <td>80</td>\n",
       "      <td>75</td>\n",
       "      <td>7.0</td>\n",
       "      <td>93</td>\n",
       "      <td>74</td>\n",
       "      <td>19</td>\n",
       "      <td>3.9</td>\n",
       "      <td>1009</td>\n",
       "      <td>PG-13</td>\n",
       "      <td>[Mystery &amp; Suspense]</td>\n",
       "      <td>John Curran</td>\n",
       "      <td>[Taylor Allen, Andrew Logan]</td>\n",
       "      <td>Apr 6, 2018</td>\n",
       "      <td>NaN</td>\n",
       "      <td>101.0</td>\n",
       "      <td>Entertainment Studios Motion Pictures</td>\n",
       "      <td>https://www.rottentomatoes.com/m/chappaquiddic...</td>\n",
       "    </tr>\n",
       "  </tbody>\n",
       "</table>\n",
       "</div>"
      ],
      "text/plain": [
       "                            title  tom  aud  tom_ave_rating  tom_num_reviews  \\\n",
       "0            The Greatest Showman   55   88             6.0              205   \n",
       "1      You Were Never Really Here   88   72             8.2              137   \n",
       "2  Jumanji: Welcome to the Jungle   76   88             6.1              185   \n",
       "3                  Thor: Ragnarok   92   87             7.5              332   \n",
       "4              The Shape of Water   92   74             8.4              346   \n",
       "5                        Hostiles   73   72             6.8              180   \n",
       "6                  Justice League   40   75             5.3              313   \n",
       "7                            Coco   97   94             8.2              273   \n",
       "8                    Molly's Game   82   84             7.2              241   \n",
       "9                  Chappaquiddick   80   75             7.0               93   \n",
       "\n",
       "   tom_fresh  tom_rotten  aud_ave_rating  aud_num_ratings age_rating  \\\n",
       "0        113          92             4.4            21776         PG   \n",
       "1        120          17             3.7             2183          R   \n",
       "2        141          44             4.4            35896      PG-13   \n",
       "3        305          27             4.2            88083      PG-13   \n",
       "4        318          28             3.8            22328          R   \n",
       "5        131          49             3.7             4009          R   \n",
       "6        126         187             3.9           123478      PG-13   \n",
       "7        265           8             4.6            23818         PG   \n",
       "8        198          43             3.9            10147          R   \n",
       "9         74          19             3.9             1009      PG-13   \n",
       "\n",
       "                                               genre  \\\n",
       "0                 [Drama, Musical & Performing Arts]   \n",
       "1                        [Drama, Mystery & Suspense]   \n",
       "2  [Action & Adventure, Drama, Kids & Family, Sci...   \n",
       "3  [Action & Adventure, Drama, Science Fiction & ...   \n",
       "4        [Drama, Science Fiction & Fantasy, Romance]   \n",
       "5               [Action & Adventure, Drama, Western]   \n",
       "6  [Action & Adventure, Drama, Science Fiction & ...   \n",
       "7            [Action & Adventure, Animation, Comedy]   \n",
       "8                                            [Drama]   \n",
       "9                               [Mystery & Suspense]   \n",
       "\n",
       "                     director  \\\n",
       "0              Michael Gracey   \n",
       "1                Lynne Ramsay   \n",
       "2                 Jake Kasdan   \n",
       "3               Taika Waititi   \n",
       "4          Guillermo del Toro   \n",
       "5                Scott Cooper   \n",
       "6                 Zack Snyder   \n",
       "7  Lee Unkrich, Adrian Molina   \n",
       "8                Aaron Sorkin   \n",
       "9                 John Curran   \n",
       "\n",
       "                                             writers      rel_date  \\\n",
       "0                         [Jenny Bicks, Bill Condon]  Dec 20, 2017   \n",
       "1                                     [Lynne Ramsay]   Apr 6, 2018   \n",
       "2  [Chris McKenna, Erik Sommers, Scott Rosenberg,...  Dec 20, 2017   \n",
       "3                                     [Eric Pearson]   Nov 3, 2017   \n",
       "4               [Guillermo del Toro, Vanessa Taylor]  Dec 22, 2017   \n",
       "5                                     [Scott Cooper]  Jan 26, 2018   \n",
       "6                        [Chris Terrio, Joss Whedon]  Nov 17, 2017   \n",
       "7                   [Matthew Aldrich, Adrian Molina]  Nov 22, 2017   \n",
       "8                                     [Aaron Sorkin]   Jan 5, 2018   \n",
       "9                       [Taylor Allen, Andrew Logan]   Apr 6, 2018   \n",
       "\n",
       "           box  runtime                                 studio  \\\n",
       "0  164616443.0    105.0                       20th Century Fox   \n",
       "1          NaN     89.0                         Amazon Studios   \n",
       "2  393201353.0    112.0                      Columbia Pictures   \n",
       "3  314971245.0    130.0                   Walt Disney Pictures   \n",
       "4   57393976.0    119.0               Fox Searchlight Pictures   \n",
       "5   29472340.0    135.0  Entertainment Studios Motion Pictures   \n",
       "6  227032490.0    110.0                  Warner Bros. Pictures   \n",
       "7  208487719.0      NaN                           Disney/Pixar   \n",
       "8   28744803.0    140.0                               STXfilms   \n",
       "9          NaN    101.0  Entertainment Studios Motion Pictures   \n",
       "\n",
       "                                                link  \n",
       "0  https://www.rottentomatoes.com/m/the_greatest_...  \n",
       "1  https://www.rottentomatoes.com/m/you_were_neve...  \n",
       "2  https://www.rottentomatoes.com/m/jumanji_welco...  \n",
       "3  https://www.rottentomatoes.com/m/thor_ragnarok...  \n",
       "4  https://www.rottentomatoes.com/m/the_shape_of_...  \n",
       "5          https://www.rottentomatoes.com/m/hostiles  \n",
       "6  https://www.rottentomatoes.com/m/justice_leagu...  \n",
       "7         https://www.rottentomatoes.com/m/coco_2017  \n",
       "8  https://www.rottentomatoes.com/m/mollys_game_2017  \n",
       "9  https://www.rottentomatoes.com/m/chappaquiddic...  "
      ]
     },
     "execution_count": 40,
     "metadata": {},
     "output_type": "execute_result"
    }
   ],
   "source": [
    "headers = [\n",
    "    'title',\n",
    "    'tom',\n",
    "    'aud',\n",
    "    'tom_ave_rating',\n",
    "    'tom_num_reviews',\n",
    "    'tom_fresh',\n",
    "    'tom_rotten',\n",
    "    'aud_ave_rating',\n",
    "    'aud_num_ratings',\n",
    "    'age_rating',\n",
    "    'genre',\n",
    "    'director',\n",
    "    'writers',\n",
    "    'rel_date',\n",
    "    'box',\n",
    "    'runtime',\n",
    "    'studio',\n",
    "    'link'\n",
    "]\n",
    "\n",
    "df = pd.DataFrame(table, columns=headers)\n",
    "df.head(n=10)"
   ]
  },
  {
   "cell_type": "code",
   "execution_count": 41,
   "metadata": {
    "ExecuteTime": {
     "end_time": "2018-04-18T02:29:56.559182Z",
     "start_time": "2018-04-18T02:29:56.534342Z"
    },
    "collapsed": true
   },
   "outputs": [],
   "source": [
    "df.to_csv('movies_df_15.csv', index=False)\n",
    "\n",
    "# # here is how to read the csv you just wrote. With pandas,\n",
    "# #   it'll conveniently be read as a DataFrame!\n",
    "# df = pd.read_csv('movies_df_15.csv')"
   ]
  },
  {
   "cell_type": "markdown",
   "metadata": {},
   "source": [
    "# Let's inspect our data.\n",
    "\n",
    "How did our scraping do?"
   ]
  },
  {
   "cell_type": "code",
   "execution_count": 42,
   "metadata": {
    "ExecuteTime": {
     "end_time": "2018-04-18T02:29:56.599261Z",
     "start_time": "2018-04-18T02:29:56.561405Z"
    },
    "scrolled": true
   },
   "outputs": [
    {
     "name": "stdout",
     "output_type": "stream",
     "text": [
      "number of nulls per column\n",
      "\n",
      "title:             0\n",
      "tom:               0\n",
      "aud:               0\n",
      "tom_ave_rating:    0\n",
      "tom_num_reviews:   0\n",
      "tom_fresh:         0\n",
      "tom_rotten:        0\n",
      "aud_ave_rating:    0\n",
      "aud_num_ratings:   0\n",
      "age_rating:        0\n",
      "genre:             1\n",
      "director:          7\n",
      "writers:          18\n",
      "rel_date:         57\n",
      "box:             248\n",
      "runtime:          62\n",
      "studio:           29\n",
      "link:              0\n"
     ]
    }
   ],
   "source": [
    "print('number of nulls per column\\n')\n",
    "for label in df:\n",
    "    print('{:<16} {:>3}'.format(label+':', len(df[df[label].isnull()])))"
   ]
  },
  {
   "cell_type": "markdown",
   "metadata": {},
   "source": [
    "# Let's model!\n",
    "\n",
    "We'll do some linear regression with Python's `statsmodels` library.\n",
    "\n",
    "*Note: this is not the best model performance-wise; but for this tutorial, it will be the most helpful as results are already in a tabular form!*"
   ]
  },
  {
   "cell_type": "markdown",
   "metadata": {},
   "source": [
    "**Let's predict box office revenues!**\n",
    "\n",
    "We will base our prediction on:\n",
    "* tomatometer score\n",
    "* audience score\n",
    "* average tomatometer rating\n",
    "* average audience rating"
   ]
  },
  {
   "cell_type": "code",
   "execution_count": 43,
   "metadata": {
    "ExecuteTime": {
     "end_time": "2018-04-18T02:29:56.739155Z",
     "start_time": "2018-04-18T02:29:56.602252Z"
    },
    "scrolled": true
   },
   "outputs": [
    {
     "data": {
      "text/html": [
       "<table class=\"simpletable\">\n",
       "<tr>\n",
       "        <td>Model:</td>               <td>OLS</td>         <td>Adj. R-squared:</td>      <td>0.783</td>  \n",
       "</tr>\n",
       "<tr>\n",
       "  <td>Dependent Variable:</td>        <td>box</td>              <td>AIC:</td>          <td>5760.1077</td>\n",
       "</tr>\n",
       "<tr>\n",
       "         <td>Date:</td>        <td>2018-04-18 10:29</td>        <td>BIC:</td>          <td>5778.1716</td>\n",
       "</tr>\n",
       "<tr>\n",
       "   <td>No. Observations:</td>         <td>150</td>         <td>Log-Likelihood:</td>     <td>-2874.1</td> \n",
       "</tr>\n",
       "<tr>\n",
       "       <td>Df Model:</td>              <td>6</td>           <td>F-statistic:</td>        <td>91.34</td>  \n",
       "</tr>\n",
       "<tr>\n",
       "     <td>Df Residuals:</td>           <td>144</td>       <td>Prob (F-statistic):</td>  <td>1.40e-46</td> \n",
       "</tr>\n",
       "<tr>\n",
       "      <td>R-squared:</td>            <td>0.792</td>            <td>Scale:</td>        <td>2.6775e+15</td>\n",
       "</tr>\n",
       "</table>\n",
       "<table class=\"simpletable\">\n",
       "<tr>\n",
       "         <td></td>              <th>Coef.</th>       <th>Std.Err.</th>       <th>t</th>     <th>P>|t|</th>     <th>[0.025</th>         <th>0.975]</th>    \n",
       "</tr>\n",
       "<tr>\n",
       "  <th>tom</th>              <td>2107912.1629</td>   <td>649682.3825</td>  <td>3.2445</td>  <td>0.0015</td>   <td>823766.1650</td>   <td>3392058.1608</td> \n",
       "</tr>\n",
       "<tr>\n",
       "  <th>aud</th>              <td>-854161.2729</td>   <td>737759.2328</td>  <td>-1.1578</td> <td>0.2489</td>  <td>-2312397.7770</td>   <td>604075.2312</td> \n",
       "</tr>\n",
       "<tr>\n",
       "  <th>tom_ave_rating</th>  <td>-47332304.5300</td> <td>13364125.5752</td> <td>-3.5417</td> <td>0.0005</td> <td>-73747501.9185</td> <td>-20917107.1416</td>\n",
       "</tr>\n",
       "<tr>\n",
       "  <th>aud_ave_rating</th>   <td>55255245.2428</td> <td>21516220.4917</td> <td>2.5681</td>  <td>0.0112</td>  <td>12726820.3083</td>  <td>97783670.1773</td>\n",
       "</tr>\n",
       "<tr>\n",
       "  <th>tom_num_reviews</th>   <td>145957.1495</td>   <td>86549.0200</td>   <td>1.6864</td>  <td>0.0939</td>   <td>-25113.4854</td>    <td>317027.7843</td> \n",
       "</tr>\n",
       "<tr>\n",
       "  <th>aud_num_ratings</th>    <td>2465.3351</td>     <td>252.2317</td>    <td>9.7741</td>  <td>0.0000</td>    <td>1966.7802</td>      <td>2963.8900</td>  \n",
       "</tr>\n",
       "</table>\n",
       "<table class=\"simpletable\">\n",
       "<tr>\n",
       "     <td>Omnibus:</td>    <td>67.502</td>  <td>Durbin-Watson:</td>    <td>1.681</td> \n",
       "</tr>\n",
       "<tr>\n",
       "  <td>Prob(Omnibus):</td>  <td>0.000</td> <td>Jarque-Bera (JB):</td> <td>386.841</td>\n",
       "</tr>\n",
       "<tr>\n",
       "       <td>Skew:</td>      <td>1.496</td>     <td>Prob(JB):</td>      <td>0.000</td> \n",
       "</tr>\n",
       "<tr>\n",
       "     <td>Kurtosis:</td>   <td>10.276</td>  <td>Condition No.:</td>   <td>203394</td> \n",
       "</tr>\n",
       "</table>"
      ],
      "text/plain": [
       "<class 'statsmodels.iolib.summary2.Summary'>\n",
       "\"\"\"\n",
       "                             Results: Ordinary least squares\n",
       "=========================================================================================\n",
       "Model:                      OLS                     Adj. R-squared:            0.783     \n",
       "Dependent Variable:         box                     AIC:                       5760.1077 \n",
       "Date:                       2018-04-18 10:29        BIC:                       5778.1716 \n",
       "No. Observations:           150                     Log-Likelihood:            -2874.1   \n",
       "Df Model:                   6                       F-statistic:               91.34     \n",
       "Df Residuals:               144                     Prob (F-statistic):        1.40e-46  \n",
       "R-squared:                  0.792                   Scale:                     2.6775e+15\n",
       "-----------------------------------------------------------------------------------------\n",
       "                    Coef.         Std.Err.      t    P>|t|      [0.025         0.975]    \n",
       "-----------------------------------------------------------------------------------------\n",
       "tom               2107912.1629   649682.3825  3.2445 0.0015    823766.1650   3392058.1608\n",
       "aud               -854161.2729   737759.2328 -1.1578 0.2489  -2312397.7770    604075.2312\n",
       "tom_ave_rating  -47332304.5300 13364125.5752 -3.5417 0.0005 -73747501.9185 -20917107.1416\n",
       "aud_ave_rating   55255245.2428 21516220.4917  2.5681 0.0112  12726820.3083  97783670.1773\n",
       "tom_num_reviews    145957.1495    86549.0200  1.6864 0.0939    -25113.4854    317027.7843\n",
       "aud_num_ratings      2465.3351      252.2317  9.7741 0.0000      1966.7802      2963.8900\n",
       "-----------------------------------------------------------------------------------------\n",
       "Omnibus:                     67.502               Durbin-Watson:                  1.681  \n",
       "Prob(Omnibus):               0.000                Jarque-Bera (JB):               386.841\n",
       "Skew:                        1.496                Prob(JB):                       0.000  \n",
       "Kurtosis:                    10.276               Condition No.:                  203394 \n",
       "=========================================================================================\n",
       "* The condition number is large (2e+05). This might indicate             strong\n",
       "multicollinearity or other numerical problems.\n",
       "\"\"\""
      ]
     },
     "execution_count": 43,
     "metadata": {},
     "output_type": "execute_result"
    }
   ],
   "source": [
    "import statsmodels.api as sm\n",
    "import numpy as np\n",
    "\n",
    "df_model = df[df['box']>=1000000]\n",
    "data_to_model = df_model[['tom', 'aud', 'tom_ave_rating', 'aud_ave_rating', 'tom_num_reviews', 'aud_num_ratings']]\n",
    "target_column = df_model[['box']]\n",
    "\n",
    "# Note the order of arguments\n",
    "model = sm.OLS(target_column, data_to_model).fit()\n",
    "\n",
    "# Print out the statistics. Summary2 gives it in non-exponential format.\n",
    "model.summary2()"
   ]
  },
  {
   "cell_type": "markdown",
   "metadata": {},
   "source": [
    "---"
   ]
  },
  {
   "cell_type": "markdown",
   "metadata": {},
   "source": [
    "# Conclusion\n",
    "\n",
    "And we're done! We hope you've learned a thing or two from this detailed notebook."
   ]
  },
  {
   "cell_type": "markdown",
   "metadata": {},
   "source": [
    "With web scraping, we can prepare our own datasets to play with, and you'll only be limited by what data is on the internet -- which, if you ask us, is quite a lot! :)\n",
    "\n",
    "---\n",
    "\n",
    "Prepared for\n",
    "**Data Science 1**\n",
    "\n",
    "*(An internal lecture conducted for PLDT/Smart)*\n",
    "\n",
    "---\n",
    "\n",
    "by:\n",
    "\n",
    "Nicholas _\"Lodi Nick\"_ Huber  <c-nehuber@pldt.com.ph>\n",
    "\n",
    "Andre _\"dTanMan\"_ Tan  <attan@pldt.com.ph>\n",
    "\n",
    "Mark _\"Markee-joke-lang-Mark-lang\"_ Herrera  <mnherrera@talas.com.ph>\n",
    "\n",
    "Brent _\"Pun de Manila\"_ Carbonera  <bbcarbonera@pldt.com.ph>\n",
    "\n",
    "---"
   ]
  },
  {
   "cell_type": "markdown",
   "metadata": {},
   "source": [
    "# Appendix\n",
    "\n",
    "Other code snippets that may help you when you're playing around with this notebook"
   ]
  },
  {
   "cell_type": "markdown",
   "metadata": {
    "heading_collapsed": true
   },
   "source": [
    "## One-cell snippet to scrape one movie\n",
    "\n",
    "This is one complete iteration of the for loop. You can use this for debugging error pages, as you'll see on which part of the loop the code crashed."
   ]
  },
  {
   "cell_type": "code",
   "execution_count": 44,
   "metadata": {
    "ExecuteTime": {
     "end_time": "2018-04-18T02:29:58.952353Z",
     "start_time": "2018-04-18T02:29:56.741670Z"
    },
    "hidden": true
   },
   "outputs": [
    {
     "ename": "ValueError",
     "evalue": "invalid literal for int() with base 10: '91%'",
     "output_type": "error",
     "traceback": [
      "\u001b[0;31m---------------------------------------------------------------------------\u001b[0m",
      "\u001b[0;31mValueError\u001b[0m                                Traceback (most recent call last)",
      "\u001b[0;32m<ipython-input-44-c59616e17b49>\u001b[0m in \u001b[0;36m<module>\u001b[0;34m()\u001b[0m\n\u001b[1;32m     12\u001b[0m \u001b[0;34m\u001b[0m\u001b[0m\n\u001b[1;32m     13\u001b[0m \u001b[0;31m# === 1: tomatometer ===\u001b[0m\u001b[0;34m\u001b[0m\u001b[0;34m\u001b[0m\u001b[0m\n\u001b[0;32m---> 14\u001b[0;31m \u001b[0mtom\u001b[0m \u001b[0;34m=\u001b[0m \u001b[0mint\u001b[0m\u001b[0;34m(\u001b[0m\u001b[0mmeter_values\u001b[0m\u001b[0;34m[\u001b[0m\u001b[0;36m0\u001b[0m\u001b[0;34m]\u001b[0m\u001b[0;34m.\u001b[0m\u001b[0mspan\u001b[0m\u001b[0;34m.\u001b[0m\u001b[0mtext\u001b[0m\u001b[0;34m)\u001b[0m\u001b[0;34m\u001b[0m\u001b[0m\n\u001b[0m\u001b[1;32m     15\u001b[0m \u001b[0;34m\u001b[0m\u001b[0m\n\u001b[1;32m     16\u001b[0m \u001b[0;31m# === 2: audience meter ===\u001b[0m\u001b[0;34m\u001b[0m\u001b[0;34m\u001b[0m\u001b[0m\n",
      "\u001b[0;31mValueError\u001b[0m: invalid literal for int() with base 10: '91%'"
     ]
    }
   ],
   "source": [
    "# == prepare link ==\n",
    "link = 'https://www.rottentomatoes.com/m/black_panther_2018'\n",
    "\n",
    "# == make soup ==\n",
    "soup = BeautifulSoup(requests.get(link).text, 'lxml')\n",
    "\n",
    "# === 0: title of the movie ===\n",
    "movie_title = soup.title.text.split('\\xa0')[0]\n",
    "\n",
    "# get tomatometer score and audience score (first and last in meter-value)\n",
    "meter_values = score_panel.find_all(class_='meter-value')\n",
    "\n",
    "# === 1: tomatometer ===\n",
    "tom = int(meter_values[0].span.text)\n",
    "\n",
    "# === 2: audience meter ===\n",
    "aud = meter_values[-1].span.text # returns 79%\n",
    "aud = int(aud.replace('%', ''))  # remove %, parse to an int\n",
    "\n",
    "# scoreStats contains the other numbers underneath the tomatometer score\n",
    "score_spans = score_panel.find(id='scoreStats').find_all('span')\n",
    "\n",
    "# === 3: tomatometer average rating\n",
    "tom_ave_rating = float(score_spans[0].next_sibling.strip().split('/')[0])\n",
    "\n",
    "# === 4: tomatometer number of reviews\n",
    "tom_num_reviews = int(score_spans[2].text)\n",
    "\n",
    "# === 5: tomatometer number of fresh reviews\n",
    "tom_fresh = int(score_spans[4].text)\n",
    "\n",
    "# === 6: tomatometer number \n",
    "tom_rotten = int(score_spans[6].text)\n",
    "\n",
    "# the last audience-info contains the other numbers underneath the audience score.\n",
    "audience_panel = score_panel.find_all(class_='audience-info')[-1].find_all('span')\n",
    "\n",
    "# === 7: audience average rating\n",
    "aud_ave_rating = audience_panel[0].next_sibling.strip().split('/')[0]\n",
    "aud_ave_rating = float(aud_ave_rating)\n",
    "\n",
    "# === 8: audience number of ratings\n",
    "aud_num_ratings = audience_panel[1].next_sibling.strip().split('/')[0]\n",
    "aud_num_ratings = int(aud_num_ratings.replace(',', ''))\n",
    "\n",
    "# we need to dynamically scrape movie info by checking both headers...\n",
    "movie_info_headers = soup.find_all(class_='meta-label')\n",
    "movie_info_headers = [x.text.split(':')[0] for x in movie_info_headers]\n",
    "\n",
    "# ...and values.\n",
    "movie_info_values = soup.find_all(class_='meta-value')\n",
    "movie_info_values = [x.text.strip() for x in movie_info_values]\n",
    "\n",
    "# so we have a set number of Nones\n",
    "info = [None for x in range(8)]\n",
    "\n",
    "for header,value in zip(movie_info_headers, movie_info_values):\n",
    "    lowercase_header = header.lower()\n",
    "\n",
    "    if 'rating' in lowercase_header:\n",
    "        info[0] = value.split(' ')[0]\n",
    "\n",
    "    elif 'genre' in lowercase_header:\n",
    "        # \\s+ means \"any whitespace\". So,\n",
    "        # ',\\s+' means a comma followed by any whitespace.\n",
    "        info[1] = re.split(',\\s+', value)\n",
    "\n",
    "    elif 'directed' in lowercase_header:\n",
    "        info[2] = value\n",
    "\n",
    "    elif 'written' in lowercase_header:\n",
    "        info[3] = value.split(',\\s+')\n",
    "\n",
    "    elif 'theaters' in lowercase_header:\n",
    "        info[4] = value.split('\\n')[0]\n",
    "\n",
    "    elif 'box' in lowercase_header:\n",
    "        info[5] = int(re.sub('\\$|,', '', value))\n",
    "\n",
    "    elif 'runtime' in lowercase_header:\n",
    "        info[6] = int(value.split(' ')[0])\n",
    "\n",
    "    elif 'studio' in lowercase_header:\n",
    "        info[7] = value"
   ]
  },
  {
   "cell_type": "markdown",
   "metadata": {
    "heading_collapsed": true
   },
   "source": [
    "## Processing `genre` column if it became a string\n",
    "\n",
    "The `genre` column of our `DataFrame` contained lists; these are converted into `string`s when the `DataFrame` is written to a .csv file. Here's how to change it back."
   ]
  },
  {
   "cell_type": "code",
   "execution_count": 45,
   "metadata": {
    "ExecuteTime": {
     "end_time": "2018-04-18T02:49:11.512535Z",
     "start_time": "2018-04-18T02:49:11.496062Z"
    },
    "collapsed": true,
    "hidden": true
   },
   "outputs": [],
   "source": [
    "app_df = pd.read_csv('movies_df_15.csv')"
   ]
  },
  {
   "cell_type": "code",
   "execution_count": 46,
   "metadata": {
    "ExecuteTime": {
     "end_time": "2018-04-18T02:49:12.627151Z",
     "start_time": "2018-04-18T02:49:12.577120Z"
    },
    "hidden": true,
    "scrolled": false
   },
   "outputs": [
    {
     "data": {
      "text/html": [
       "<div>\n",
       "<style>\n",
       "    .dataframe thead tr:only-child th {\n",
       "        text-align: right;\n",
       "    }\n",
       "\n",
       "    .dataframe thead th {\n",
       "        text-align: left;\n",
       "    }\n",
       "\n",
       "    .dataframe tbody tr th {\n",
       "        vertical-align: top;\n",
       "    }\n",
       "</style>\n",
       "<table border=\"1\" class=\"dataframe\">\n",
       "  <thead>\n",
       "    <tr style=\"text-align: right;\">\n",
       "      <th></th>\n",
       "      <th>title</th>\n",
       "      <th>tom</th>\n",
       "      <th>aud</th>\n",
       "      <th>tom_ave_rating</th>\n",
       "      <th>tom_num_reviews</th>\n",
       "      <th>tom_fresh</th>\n",
       "      <th>tom_rotten</th>\n",
       "      <th>aud_ave_rating</th>\n",
       "      <th>aud_num_ratings</th>\n",
       "      <th>age_rating</th>\n",
       "      <th>genre</th>\n",
       "      <th>director</th>\n",
       "      <th>writers</th>\n",
       "      <th>rel_date</th>\n",
       "      <th>box</th>\n",
       "      <th>runtime</th>\n",
       "      <th>studio</th>\n",
       "      <th>link</th>\n",
       "    </tr>\n",
       "  </thead>\n",
       "  <tbody>\n",
       "    <tr>\n",
       "      <th>0</th>\n",
       "      <td>The Greatest Showman</td>\n",
       "      <td>55</td>\n",
       "      <td>88</td>\n",
       "      <td>6.0</td>\n",
       "      <td>205</td>\n",
       "      <td>113</td>\n",
       "      <td>92</td>\n",
       "      <td>4.4</td>\n",
       "      <td>21776</td>\n",
       "      <td>PG</td>\n",
       "      <td>'Drama', 'Musical &amp; Performing Arts'</td>\n",
       "      <td>Michael Gracey</td>\n",
       "      <td>['Jenny Bicks, Bill Condon']</td>\n",
       "      <td>Dec 20, 2017</td>\n",
       "      <td>164616443.0</td>\n",
       "      <td>105.0</td>\n",
       "      <td>20th Century Fox</td>\n",
       "      <td>https://www.rottentomatoes.com/m/the_greatest_...</td>\n",
       "    </tr>\n",
       "    <tr>\n",
       "      <th>1</th>\n",
       "      <td>You Were Never Really Here</td>\n",
       "      <td>88</td>\n",
       "      <td>72</td>\n",
       "      <td>8.2</td>\n",
       "      <td>137</td>\n",
       "      <td>120</td>\n",
       "      <td>17</td>\n",
       "      <td>3.7</td>\n",
       "      <td>2183</td>\n",
       "      <td>R</td>\n",
       "      <td>'Drama', 'Mystery &amp; Suspense'</td>\n",
       "      <td>Lynne Ramsay</td>\n",
       "      <td>['Lynne Ramsay']</td>\n",
       "      <td>Apr 6, 2018</td>\n",
       "      <td>NaN</td>\n",
       "      <td>89.0</td>\n",
       "      <td>Amazon Studios</td>\n",
       "      <td>https://www.rottentomatoes.com/m/you_were_neve...</td>\n",
       "    </tr>\n",
       "    <tr>\n",
       "      <th>2</th>\n",
       "      <td>Jumanji: Welcome to the Jungle</td>\n",
       "      <td>76</td>\n",
       "      <td>88</td>\n",
       "      <td>6.1</td>\n",
       "      <td>185</td>\n",
       "      <td>141</td>\n",
       "      <td>44</td>\n",
       "      <td>4.4</td>\n",
       "      <td>35896</td>\n",
       "      <td>PG-13</td>\n",
       "      <td>'Action &amp; Adventure', 'Drama', 'Kids &amp; Family'...</td>\n",
       "      <td>Jake Kasdan</td>\n",
       "      <td>['Chris McKenna, Erik Sommers, Scott Rosenberg...</td>\n",
       "      <td>Dec 20, 2017</td>\n",
       "      <td>393201353.0</td>\n",
       "      <td>112.0</td>\n",
       "      <td>Columbia Pictures</td>\n",
       "      <td>https://www.rottentomatoes.com/m/jumanji_welco...</td>\n",
       "    </tr>\n",
       "    <tr>\n",
       "      <th>3</th>\n",
       "      <td>Thor: Ragnarok</td>\n",
       "      <td>92</td>\n",
       "      <td>87</td>\n",
       "      <td>7.5</td>\n",
       "      <td>332</td>\n",
       "      <td>305</td>\n",
       "      <td>27</td>\n",
       "      <td>4.2</td>\n",
       "      <td>88083</td>\n",
       "      <td>PG-13</td>\n",
       "      <td>'Action &amp; Adventure', 'Drama', 'Science Fictio...</td>\n",
       "      <td>Taika Waititi</td>\n",
       "      <td>['Eric Pearson']</td>\n",
       "      <td>Nov 3, 2017</td>\n",
       "      <td>314971245.0</td>\n",
       "      <td>130.0</td>\n",
       "      <td>Walt Disney Pictures</td>\n",
       "      <td>https://www.rottentomatoes.com/m/thor_ragnarok...</td>\n",
       "    </tr>\n",
       "    <tr>\n",
       "      <th>4</th>\n",
       "      <td>The Shape of Water</td>\n",
       "      <td>92</td>\n",
       "      <td>74</td>\n",
       "      <td>8.4</td>\n",
       "      <td>346</td>\n",
       "      <td>318</td>\n",
       "      <td>28</td>\n",
       "      <td>3.8</td>\n",
       "      <td>22328</td>\n",
       "      <td>R</td>\n",
       "      <td>'Drama', 'Science Fiction &amp; Fantasy', 'Romance'</td>\n",
       "      <td>Guillermo del Toro</td>\n",
       "      <td>['Guillermo del Toro, Vanessa Taylor']</td>\n",
       "      <td>Dec 22, 2017</td>\n",
       "      <td>57393976.0</td>\n",
       "      <td>119.0</td>\n",
       "      <td>Fox Searchlight Pictures</td>\n",
       "      <td>https://www.rottentomatoes.com/m/the_shape_of_...</td>\n",
       "    </tr>\n",
       "    <tr>\n",
       "      <th>5</th>\n",
       "      <td>Hostiles</td>\n",
       "      <td>73</td>\n",
       "      <td>72</td>\n",
       "      <td>6.8</td>\n",
       "      <td>180</td>\n",
       "      <td>131</td>\n",
       "      <td>49</td>\n",
       "      <td>3.7</td>\n",
       "      <td>4009</td>\n",
       "      <td>R</td>\n",
       "      <td>'Action &amp; Adventure', 'Drama', 'Western'</td>\n",
       "      <td>Scott Cooper</td>\n",
       "      <td>['Scott Cooper']</td>\n",
       "      <td>Jan 26, 2018</td>\n",
       "      <td>29472340.0</td>\n",
       "      <td>135.0</td>\n",
       "      <td>Entertainment Studios Motion Pictures</td>\n",
       "      <td>https://www.rottentomatoes.com/m/hostiles</td>\n",
       "    </tr>\n",
       "    <tr>\n",
       "      <th>6</th>\n",
       "      <td>Justice League</td>\n",
       "      <td>40</td>\n",
       "      <td>75</td>\n",
       "      <td>5.3</td>\n",
       "      <td>313</td>\n",
       "      <td>126</td>\n",
       "      <td>187</td>\n",
       "      <td>3.9</td>\n",
       "      <td>123478</td>\n",
       "      <td>PG-13</td>\n",
       "      <td>'Action &amp; Adventure', 'Drama', 'Science Fictio...</td>\n",
       "      <td>Zack Snyder</td>\n",
       "      <td>['Chris Terrio, Joss Whedon']</td>\n",
       "      <td>Nov 17, 2017</td>\n",
       "      <td>227032490.0</td>\n",
       "      <td>110.0</td>\n",
       "      <td>Warner Bros. Pictures</td>\n",
       "      <td>https://www.rottentomatoes.com/m/justice_leagu...</td>\n",
       "    </tr>\n",
       "    <tr>\n",
       "      <th>7</th>\n",
       "      <td>Coco</td>\n",
       "      <td>97</td>\n",
       "      <td>94</td>\n",
       "      <td>8.2</td>\n",
       "      <td>273</td>\n",
       "      <td>265</td>\n",
       "      <td>8</td>\n",
       "      <td>4.6</td>\n",
       "      <td>23818</td>\n",
       "      <td>PG</td>\n",
       "      <td>'Action &amp; Adventure', 'Animation', 'Comedy'</td>\n",
       "      <td>Lee Unkrich, Adrian Molina</td>\n",
       "      <td>['Matthew Aldrich, Adrian Molina']</td>\n",
       "      <td>Nov 22, 2017</td>\n",
       "      <td>208487719.0</td>\n",
       "      <td>NaN</td>\n",
       "      <td>Disney/Pixar</td>\n",
       "      <td>https://www.rottentomatoes.com/m/coco_2017</td>\n",
       "    </tr>\n",
       "    <tr>\n",
       "      <th>8</th>\n",
       "      <td>Molly's Game</td>\n",
       "      <td>82</td>\n",
       "      <td>84</td>\n",
       "      <td>7.2</td>\n",
       "      <td>241</td>\n",
       "      <td>198</td>\n",
       "      <td>43</td>\n",
       "      <td>3.9</td>\n",
       "      <td>10147</td>\n",
       "      <td>R</td>\n",
       "      <td>'Drama'</td>\n",
       "      <td>Aaron Sorkin</td>\n",
       "      <td>['Aaron Sorkin']</td>\n",
       "      <td>Jan 5, 2018</td>\n",
       "      <td>28744803.0</td>\n",
       "      <td>140.0</td>\n",
       "      <td>STXfilms</td>\n",
       "      <td>https://www.rottentomatoes.com/m/mollys_game_2017</td>\n",
       "    </tr>\n",
       "    <tr>\n",
       "      <th>9</th>\n",
       "      <td>Chappaquiddick</td>\n",
       "      <td>80</td>\n",
       "      <td>75</td>\n",
       "      <td>7.0</td>\n",
       "      <td>93</td>\n",
       "      <td>74</td>\n",
       "      <td>19</td>\n",
       "      <td>3.9</td>\n",
       "      <td>1009</td>\n",
       "      <td>PG-13</td>\n",
       "      <td>'Mystery &amp; Suspense'</td>\n",
       "      <td>John Curran</td>\n",
       "      <td>['Taylor Allen, Andrew Logan']</td>\n",
       "      <td>Apr 6, 2018</td>\n",
       "      <td>NaN</td>\n",
       "      <td>101.0</td>\n",
       "      <td>Entertainment Studios Motion Pictures</td>\n",
       "      <td>https://www.rottentomatoes.com/m/chappaquiddic...</td>\n",
       "    </tr>\n",
       "  </tbody>\n",
       "</table>\n",
       "</div>"
      ],
      "text/plain": [
       "                            title  tom  aud  tom_ave_rating  tom_num_reviews  \\\n",
       "0            The Greatest Showman   55   88             6.0              205   \n",
       "1      You Were Never Really Here   88   72             8.2              137   \n",
       "2  Jumanji: Welcome to the Jungle   76   88             6.1              185   \n",
       "3                  Thor: Ragnarok   92   87             7.5              332   \n",
       "4              The Shape of Water   92   74             8.4              346   \n",
       "5                        Hostiles   73   72             6.8              180   \n",
       "6                  Justice League   40   75             5.3              313   \n",
       "7                            Coco   97   94             8.2              273   \n",
       "8                    Molly's Game   82   84             7.2              241   \n",
       "9                  Chappaquiddick   80   75             7.0               93   \n",
       "\n",
       "   tom_fresh  tom_rotten  aud_ave_rating  aud_num_ratings age_rating  \\\n",
       "0        113          92             4.4            21776         PG   \n",
       "1        120          17             3.7             2183          R   \n",
       "2        141          44             4.4            35896      PG-13   \n",
       "3        305          27             4.2            88083      PG-13   \n",
       "4        318          28             3.8            22328          R   \n",
       "5        131          49             3.7             4009          R   \n",
       "6        126         187             3.9           123478      PG-13   \n",
       "7        265           8             4.6            23818         PG   \n",
       "8        198          43             3.9            10147          R   \n",
       "9         74          19             3.9             1009      PG-13   \n",
       "\n",
       "                                               genre  \\\n",
       "0               'Drama', 'Musical & Performing Arts'   \n",
       "1                      'Drama', 'Mystery & Suspense'   \n",
       "2  'Action & Adventure', 'Drama', 'Kids & Family'...   \n",
       "3  'Action & Adventure', 'Drama', 'Science Fictio...   \n",
       "4    'Drama', 'Science Fiction & Fantasy', 'Romance'   \n",
       "5           'Action & Adventure', 'Drama', 'Western'   \n",
       "6  'Action & Adventure', 'Drama', 'Science Fictio...   \n",
       "7        'Action & Adventure', 'Animation', 'Comedy'   \n",
       "8                                            'Drama'   \n",
       "9                               'Mystery & Suspense'   \n",
       "\n",
       "                     director  \\\n",
       "0              Michael Gracey   \n",
       "1                Lynne Ramsay   \n",
       "2                 Jake Kasdan   \n",
       "3               Taika Waititi   \n",
       "4          Guillermo del Toro   \n",
       "5                Scott Cooper   \n",
       "6                 Zack Snyder   \n",
       "7  Lee Unkrich, Adrian Molina   \n",
       "8                Aaron Sorkin   \n",
       "9                 John Curran   \n",
       "\n",
       "                                             writers      rel_date  \\\n",
       "0                       ['Jenny Bicks, Bill Condon']  Dec 20, 2017   \n",
       "1                                   ['Lynne Ramsay']   Apr 6, 2018   \n",
       "2  ['Chris McKenna, Erik Sommers, Scott Rosenberg...  Dec 20, 2017   \n",
       "3                                   ['Eric Pearson']   Nov 3, 2017   \n",
       "4             ['Guillermo del Toro, Vanessa Taylor']  Dec 22, 2017   \n",
       "5                                   ['Scott Cooper']  Jan 26, 2018   \n",
       "6                      ['Chris Terrio, Joss Whedon']  Nov 17, 2017   \n",
       "7                 ['Matthew Aldrich, Adrian Molina']  Nov 22, 2017   \n",
       "8                                   ['Aaron Sorkin']   Jan 5, 2018   \n",
       "9                     ['Taylor Allen, Andrew Logan']   Apr 6, 2018   \n",
       "\n",
       "           box  runtime                                 studio  \\\n",
       "0  164616443.0    105.0                       20th Century Fox   \n",
       "1          NaN     89.0                         Amazon Studios   \n",
       "2  393201353.0    112.0                      Columbia Pictures   \n",
       "3  314971245.0    130.0                   Walt Disney Pictures   \n",
       "4   57393976.0    119.0               Fox Searchlight Pictures   \n",
       "5   29472340.0    135.0  Entertainment Studios Motion Pictures   \n",
       "6  227032490.0    110.0                  Warner Bros. Pictures   \n",
       "7  208487719.0      NaN                           Disney/Pixar   \n",
       "8   28744803.0    140.0                               STXfilms   \n",
       "9          NaN    101.0  Entertainment Studios Motion Pictures   \n",
       "\n",
       "                                                link  \n",
       "0  https://www.rottentomatoes.com/m/the_greatest_...  \n",
       "1  https://www.rottentomatoes.com/m/you_were_neve...  \n",
       "2  https://www.rottentomatoes.com/m/jumanji_welco...  \n",
       "3  https://www.rottentomatoes.com/m/thor_ragnarok...  \n",
       "4  https://www.rottentomatoes.com/m/the_shape_of_...  \n",
       "5          https://www.rottentomatoes.com/m/hostiles  \n",
       "6  https://www.rottentomatoes.com/m/justice_leagu...  \n",
       "7         https://www.rottentomatoes.com/m/coco_2017  \n",
       "8  https://www.rottentomatoes.com/m/mollys_game_2017  \n",
       "9  https://www.rottentomatoes.com/m/chappaquiddic...  "
      ]
     },
     "execution_count": 46,
     "metadata": {},
     "output_type": "execute_result"
    }
   ],
   "source": [
    "# remove brackets from genres\n",
    "# you'll need this if you got the df from file\n",
    "app_df['genre'] = app_df['genre'].str.replace('\\[|\\]', '')\n",
    "\n",
    "# we want complete genres\n",
    "app_df = app_df[~app_df['genre'].isnull()]\n",
    "\n",
    "app_df.head(n=10)"
   ]
  },
  {
   "cell_type": "markdown",
   "metadata": {
    "heading_collapsed": true
   },
   "source": [
    "## Converting genres from one list to multiple [boolean](https://en.wikipedia.org/wiki/Boolean_expression) columns\n",
    "\n",
    "If we wanted to consider genres in our regression model, we can't prepare the model with a list as a feature; instead, we'll convert each genre into a column that will contain a 1 if that movie is of that genre and 0 if otherwise."
   ]
  },
  {
   "cell_type": "markdown",
   "metadata": {
    "hidden": true
   },
   "source": [
    "**Let's see how many genres there actually are in our data set.**\n",
    "\n",
    "Notice that a `set` was used as it will not contain duplicates, which is useful for our current purpose. An alternative is to use a `Counter` from the `collections` library."
   ]
  },
  {
   "cell_type": "code",
   "execution_count": 47,
   "metadata": {
    "ExecuteTime": {
     "end_time": "2018-04-18T02:49:40.947257Z",
     "start_time": "2018-04-18T02:49:40.934646Z"
    },
    "hidden": true,
    "scrolled": true
   },
   "outputs": [
    {
     "data": {
      "text/plain": [
       "{\"'Action & Adventure'\",\n",
       " \"'Animation'\",\n",
       " \"'Art House & International'\",\n",
       " \"'Classics'\",\n",
       " \"'Comedy'\",\n",
       " \"'Cult Movies'\",\n",
       " \"'Documentary'\",\n",
       " \"'Drama'\",\n",
       " \"'Horror'\",\n",
       " \"'Kids & Family'\",\n",
       " \"'Musical & Performing Arts'\",\n",
       " \"'Mystery & Suspense'\",\n",
       " \"'Romance'\",\n",
       " \"'Science Fiction & Fantasy'\",\n",
       " \"'Special Interest'\",\n",
       " \"'Sports & Fitness'\",\n",
       " \"'Western'\"}"
      ]
     },
     "execution_count": 47,
     "metadata": {},
     "output_type": "execute_result"
    }
   ],
   "source": [
    "genres = set()\n",
    "\n",
    "for list_per_movie in app_df['genre']:\n",
    "    for genre in list_per_movie.split(', '):\n",
    "        genres.add(genre)\n",
    "\n",
    "genres"
   ]
  },
  {
   "cell_type": "markdown",
   "metadata": {
    "hidden": true
   },
   "source": [
    "**We only have 16 possible genres!**\n",
    "\n",
    "We can make one column for each genre in our `DataFrame`; a 1 on a genre column will mean it's of that genre; a 0 will mean otherwise.\n",
    "\n",
    "We're using numbers so they can still be part of a numerical model!"
   ]
  },
  {
   "cell_type": "code",
   "execution_count": 48,
   "metadata": {
    "ExecuteTime": {
     "end_time": "2018-04-18T02:49:43.776352Z",
     "start_time": "2018-04-18T02:49:43.549049Z"
    },
    "hidden": true,
    "scrolled": false
   },
   "outputs": [
    {
     "data": {
      "text/html": [
       "<div>\n",
       "<style>\n",
       "    .dataframe thead tr:only-child th {\n",
       "        text-align: right;\n",
       "    }\n",
       "\n",
       "    .dataframe thead th {\n",
       "        text-align: left;\n",
       "    }\n",
       "\n",
       "    .dataframe tbody tr th {\n",
       "        vertical-align: top;\n",
       "    }\n",
       "</style>\n",
       "<table border=\"1\" class=\"dataframe\">\n",
       "  <thead>\n",
       "    <tr style=\"text-align: right;\">\n",
       "      <th></th>\n",
       "      <th>title</th>\n",
       "      <th>tom</th>\n",
       "      <th>aud</th>\n",
       "      <th>tom_ave_rating</th>\n",
       "      <th>tom_num_reviews</th>\n",
       "      <th>tom_fresh</th>\n",
       "      <th>tom_rotten</th>\n",
       "      <th>aud_ave_rating</th>\n",
       "      <th>aud_num_ratings</th>\n",
       "      <th>age_rating</th>\n",
       "      <th>genre</th>\n",
       "      <th>director</th>\n",
       "      <th>writers</th>\n",
       "      <th>rel_date</th>\n",
       "      <th>box</th>\n",
       "      <th>runtime</th>\n",
       "      <th>studio</th>\n",
       "      <th>link</th>\n",
       "    </tr>\n",
       "  </thead>\n",
       "  <tbody>\n",
       "    <tr>\n",
       "      <th>0</th>\n",
       "      <td>The Greatest Showman</td>\n",
       "      <td>55</td>\n",
       "      <td>88</td>\n",
       "      <td>6.0</td>\n",
       "      <td>205</td>\n",
       "      <td>113</td>\n",
       "      <td>92</td>\n",
       "      <td>4.4</td>\n",
       "      <td>21776</td>\n",
       "      <td>PG</td>\n",
       "      <td>[Drama, Musical &amp; Performing Arts]</td>\n",
       "      <td>Michael Gracey</td>\n",
       "      <td>[Jenny Bicks, Bill Condon]</td>\n",
       "      <td>Dec 20, 2017</td>\n",
       "      <td>164616443.0</td>\n",
       "      <td>105.0</td>\n",
       "      <td>20th Century Fox</td>\n",
       "      <td>https://www.rottentomatoes.com/m/the_greatest_...</td>\n",
       "    </tr>\n",
       "    <tr>\n",
       "      <th>1</th>\n",
       "      <td>You Were Never Really Here</td>\n",
       "      <td>88</td>\n",
       "      <td>72</td>\n",
       "      <td>8.2</td>\n",
       "      <td>137</td>\n",
       "      <td>120</td>\n",
       "      <td>17</td>\n",
       "      <td>3.7</td>\n",
       "      <td>2183</td>\n",
       "      <td>R</td>\n",
       "      <td>[Drama, Mystery &amp; Suspense]</td>\n",
       "      <td>Lynne Ramsay</td>\n",
       "      <td>[Lynne Ramsay]</td>\n",
       "      <td>Apr 6, 2018</td>\n",
       "      <td>NaN</td>\n",
       "      <td>89.0</td>\n",
       "      <td>Amazon Studios</td>\n",
       "      <td>https://www.rottentomatoes.com/m/you_were_neve...</td>\n",
       "    </tr>\n",
       "    <tr>\n",
       "      <th>2</th>\n",
       "      <td>Jumanji: Welcome to the Jungle</td>\n",
       "      <td>76</td>\n",
       "      <td>88</td>\n",
       "      <td>6.1</td>\n",
       "      <td>185</td>\n",
       "      <td>141</td>\n",
       "      <td>44</td>\n",
       "      <td>4.4</td>\n",
       "      <td>35896</td>\n",
       "      <td>PG-13</td>\n",
       "      <td>[Action &amp; Adventure, Drama, Kids &amp; Family, Sci...</td>\n",
       "      <td>Jake Kasdan</td>\n",
       "      <td>[Chris McKenna, Erik Sommers, Scott Rosenberg,...</td>\n",
       "      <td>Dec 20, 2017</td>\n",
       "      <td>393201353.0</td>\n",
       "      <td>112.0</td>\n",
       "      <td>Columbia Pictures</td>\n",
       "      <td>https://www.rottentomatoes.com/m/jumanji_welco...</td>\n",
       "    </tr>\n",
       "    <tr>\n",
       "      <th>3</th>\n",
       "      <td>Thor: Ragnarok</td>\n",
       "      <td>92</td>\n",
       "      <td>87</td>\n",
       "      <td>7.5</td>\n",
       "      <td>332</td>\n",
       "      <td>305</td>\n",
       "      <td>27</td>\n",
       "      <td>4.2</td>\n",
       "      <td>88083</td>\n",
       "      <td>PG-13</td>\n",
       "      <td>[Action &amp; Adventure, Drama, Science Fiction &amp; ...</td>\n",
       "      <td>Taika Waititi</td>\n",
       "      <td>[Eric Pearson]</td>\n",
       "      <td>Nov 3, 2017</td>\n",
       "      <td>314971245.0</td>\n",
       "      <td>130.0</td>\n",
       "      <td>Walt Disney Pictures</td>\n",
       "      <td>https://www.rottentomatoes.com/m/thor_ragnarok...</td>\n",
       "    </tr>\n",
       "    <tr>\n",
       "      <th>4</th>\n",
       "      <td>The Shape of Water</td>\n",
       "      <td>92</td>\n",
       "      <td>74</td>\n",
       "      <td>8.4</td>\n",
       "      <td>346</td>\n",
       "      <td>318</td>\n",
       "      <td>28</td>\n",
       "      <td>3.8</td>\n",
       "      <td>22328</td>\n",
       "      <td>R</td>\n",
       "      <td>[Drama, Science Fiction &amp; Fantasy, Romance]</td>\n",
       "      <td>Guillermo del Toro</td>\n",
       "      <td>[Guillermo del Toro, Vanessa Taylor]</td>\n",
       "      <td>Dec 22, 2017</td>\n",
       "      <td>57393976.0</td>\n",
       "      <td>119.0</td>\n",
       "      <td>Fox Searchlight Pictures</td>\n",
       "      <td>https://www.rottentomatoes.com/m/the_shape_of_...</td>\n",
       "    </tr>\n",
       "    <tr>\n",
       "      <th>5</th>\n",
       "      <td>Hostiles</td>\n",
       "      <td>73</td>\n",
       "      <td>72</td>\n",
       "      <td>6.8</td>\n",
       "      <td>180</td>\n",
       "      <td>131</td>\n",
       "      <td>49</td>\n",
       "      <td>3.7</td>\n",
       "      <td>4009</td>\n",
       "      <td>R</td>\n",
       "      <td>[Action &amp; Adventure, Drama, Western]</td>\n",
       "      <td>Scott Cooper</td>\n",
       "      <td>[Scott Cooper]</td>\n",
       "      <td>Jan 26, 2018</td>\n",
       "      <td>29472340.0</td>\n",
       "      <td>135.0</td>\n",
       "      <td>Entertainment Studios Motion Pictures</td>\n",
       "      <td>https://www.rottentomatoes.com/m/hostiles</td>\n",
       "    </tr>\n",
       "    <tr>\n",
       "      <th>6</th>\n",
       "      <td>Justice League</td>\n",
       "      <td>40</td>\n",
       "      <td>75</td>\n",
       "      <td>5.3</td>\n",
       "      <td>313</td>\n",
       "      <td>126</td>\n",
       "      <td>187</td>\n",
       "      <td>3.9</td>\n",
       "      <td>123478</td>\n",
       "      <td>PG-13</td>\n",
       "      <td>[Action &amp; Adventure, Drama, Science Fiction &amp; ...</td>\n",
       "      <td>Zack Snyder</td>\n",
       "      <td>[Chris Terrio, Joss Whedon]</td>\n",
       "      <td>Nov 17, 2017</td>\n",
       "      <td>227032490.0</td>\n",
       "      <td>110.0</td>\n",
       "      <td>Warner Bros. Pictures</td>\n",
       "      <td>https://www.rottentomatoes.com/m/justice_leagu...</td>\n",
       "    </tr>\n",
       "    <tr>\n",
       "      <th>7</th>\n",
       "      <td>Coco</td>\n",
       "      <td>97</td>\n",
       "      <td>94</td>\n",
       "      <td>8.2</td>\n",
       "      <td>273</td>\n",
       "      <td>265</td>\n",
       "      <td>8</td>\n",
       "      <td>4.6</td>\n",
       "      <td>23818</td>\n",
       "      <td>PG</td>\n",
       "      <td>[Action &amp; Adventure, Animation, Comedy]</td>\n",
       "      <td>Lee Unkrich, Adrian Molina</td>\n",
       "      <td>[Matthew Aldrich, Adrian Molina]</td>\n",
       "      <td>Nov 22, 2017</td>\n",
       "      <td>208487719.0</td>\n",
       "      <td>NaN</td>\n",
       "      <td>Disney/Pixar</td>\n",
       "      <td>https://www.rottentomatoes.com/m/coco_2017</td>\n",
       "    </tr>\n",
       "    <tr>\n",
       "      <th>8</th>\n",
       "      <td>Molly's Game</td>\n",
       "      <td>82</td>\n",
       "      <td>84</td>\n",
       "      <td>7.2</td>\n",
       "      <td>241</td>\n",
       "      <td>198</td>\n",
       "      <td>43</td>\n",
       "      <td>3.9</td>\n",
       "      <td>10147</td>\n",
       "      <td>R</td>\n",
       "      <td>[Drama]</td>\n",
       "      <td>Aaron Sorkin</td>\n",
       "      <td>[Aaron Sorkin]</td>\n",
       "      <td>Jan 5, 2018</td>\n",
       "      <td>28744803.0</td>\n",
       "      <td>140.0</td>\n",
       "      <td>STXfilms</td>\n",
       "      <td>https://www.rottentomatoes.com/m/mollys_game_2017</td>\n",
       "    </tr>\n",
       "    <tr>\n",
       "      <th>9</th>\n",
       "      <td>Chappaquiddick</td>\n",
       "      <td>80</td>\n",
       "      <td>75</td>\n",
       "      <td>7.0</td>\n",
       "      <td>93</td>\n",
       "      <td>74</td>\n",
       "      <td>19</td>\n",
       "      <td>3.9</td>\n",
       "      <td>1009</td>\n",
       "      <td>PG-13</td>\n",
       "      <td>[Mystery &amp; Suspense]</td>\n",
       "      <td>John Curran</td>\n",
       "      <td>[Taylor Allen, Andrew Logan]</td>\n",
       "      <td>Apr 6, 2018</td>\n",
       "      <td>NaN</td>\n",
       "      <td>101.0</td>\n",
       "      <td>Entertainment Studios Motion Pictures</td>\n",
       "      <td>https://www.rottentomatoes.com/m/chappaquiddic...</td>\n",
       "    </tr>\n",
       "  </tbody>\n",
       "</table>\n",
       "</div>"
      ],
      "text/plain": [
       "                            title  tom  aud  tom_ave_rating  tom_num_reviews  \\\n",
       "0            The Greatest Showman   55   88             6.0              205   \n",
       "1      You Were Never Really Here   88   72             8.2              137   \n",
       "2  Jumanji: Welcome to the Jungle   76   88             6.1              185   \n",
       "3                  Thor: Ragnarok   92   87             7.5              332   \n",
       "4              The Shape of Water   92   74             8.4              346   \n",
       "5                        Hostiles   73   72             6.8              180   \n",
       "6                  Justice League   40   75             5.3              313   \n",
       "7                            Coco   97   94             8.2              273   \n",
       "8                    Molly's Game   82   84             7.2              241   \n",
       "9                  Chappaquiddick   80   75             7.0               93   \n",
       "\n",
       "   tom_fresh  tom_rotten  aud_ave_rating  aud_num_ratings age_rating  \\\n",
       "0        113          92             4.4            21776         PG   \n",
       "1        120          17             3.7             2183          R   \n",
       "2        141          44             4.4            35896      PG-13   \n",
       "3        305          27             4.2            88083      PG-13   \n",
       "4        318          28             3.8            22328          R   \n",
       "5        131          49             3.7             4009          R   \n",
       "6        126         187             3.9           123478      PG-13   \n",
       "7        265           8             4.6            23818         PG   \n",
       "8        198          43             3.9            10147          R   \n",
       "9         74          19             3.9             1009      PG-13   \n",
       "\n",
       "                                               genre  \\\n",
       "0                 [Drama, Musical & Performing Arts]   \n",
       "1                        [Drama, Mystery & Suspense]   \n",
       "2  [Action & Adventure, Drama, Kids & Family, Sci...   \n",
       "3  [Action & Adventure, Drama, Science Fiction & ...   \n",
       "4        [Drama, Science Fiction & Fantasy, Romance]   \n",
       "5               [Action & Adventure, Drama, Western]   \n",
       "6  [Action & Adventure, Drama, Science Fiction & ...   \n",
       "7            [Action & Adventure, Animation, Comedy]   \n",
       "8                                            [Drama]   \n",
       "9                               [Mystery & Suspense]   \n",
       "\n",
       "                     director  \\\n",
       "0              Michael Gracey   \n",
       "1                Lynne Ramsay   \n",
       "2                 Jake Kasdan   \n",
       "3               Taika Waititi   \n",
       "4          Guillermo del Toro   \n",
       "5                Scott Cooper   \n",
       "6                 Zack Snyder   \n",
       "7  Lee Unkrich, Adrian Molina   \n",
       "8                Aaron Sorkin   \n",
       "9                 John Curran   \n",
       "\n",
       "                                             writers      rel_date  \\\n",
       "0                         [Jenny Bicks, Bill Condon]  Dec 20, 2017   \n",
       "1                                     [Lynne Ramsay]   Apr 6, 2018   \n",
       "2  [Chris McKenna, Erik Sommers, Scott Rosenberg,...  Dec 20, 2017   \n",
       "3                                     [Eric Pearson]   Nov 3, 2017   \n",
       "4               [Guillermo del Toro, Vanessa Taylor]  Dec 22, 2017   \n",
       "5                                     [Scott Cooper]  Jan 26, 2018   \n",
       "6                        [Chris Terrio, Joss Whedon]  Nov 17, 2017   \n",
       "7                   [Matthew Aldrich, Adrian Molina]  Nov 22, 2017   \n",
       "8                                     [Aaron Sorkin]   Jan 5, 2018   \n",
       "9                       [Taylor Allen, Andrew Logan]   Apr 6, 2018   \n",
       "\n",
       "           box  runtime                                 studio  \\\n",
       "0  164616443.0    105.0                       20th Century Fox   \n",
       "1          NaN     89.0                         Amazon Studios   \n",
       "2  393201353.0    112.0                      Columbia Pictures   \n",
       "3  314971245.0    130.0                   Walt Disney Pictures   \n",
       "4   57393976.0    119.0               Fox Searchlight Pictures   \n",
       "5   29472340.0    135.0  Entertainment Studios Motion Pictures   \n",
       "6  227032490.0    110.0                  Warner Bros. Pictures   \n",
       "7  208487719.0      NaN                           Disney/Pixar   \n",
       "8   28744803.0    140.0                               STXfilms   \n",
       "9          NaN    101.0  Entertainment Studios Motion Pictures   \n",
       "\n",
       "                                                link  \n",
       "0  https://www.rottentomatoes.com/m/the_greatest_...  \n",
       "1  https://www.rottentomatoes.com/m/you_were_neve...  \n",
       "2  https://www.rottentomatoes.com/m/jumanji_welco...  \n",
       "3  https://www.rottentomatoes.com/m/thor_ragnarok...  \n",
       "4  https://www.rottentomatoes.com/m/the_shape_of_...  \n",
       "5          https://www.rottentomatoes.com/m/hostiles  \n",
       "6  https://www.rottentomatoes.com/m/justice_leagu...  \n",
       "7         https://www.rottentomatoes.com/m/coco_2017  \n",
       "8  https://www.rottentomatoes.com/m/mollys_game_2017  \n",
       "9  https://www.rottentomatoes.com/m/chappaquiddic...  "
      ]
     },
     "execution_count": 48,
     "metadata": {},
     "output_type": "execute_result"
    }
   ],
   "source": [
    "genre_headers = ['horror', 'classics', 'western', 'art', 'musical', 'romance', 'comedy', 'special', 'scifi_fantasy', 'kids', 'animation', 'action', 'drama', 'documentary', 'sports', 'mystery']\n",
    "lists = app_df['genre']\n",
    "\n",
    "for header,genre in zip(genre_headers, list(genres)):\n",
    "    app_df[header] = [(1 if genre in x else 0) for x in lists]\n",
    "    \n",
    "df.head(n=10)"
   ]
  },
  {
   "cell_type": "code",
   "execution_count": null,
   "metadata": {
    "collapsed": true,
    "hidden": true
   },
   "outputs": [],
   "source": []
  }
 ],
 "metadata": {
  "kernelspec": {
   "display_name": "Python [conda root]",
   "language": "python",
   "name": "conda-root-py"
  },
  "language_info": {
   "codemirror_mode": {
    "name": "ipython",
    "version": 3
   },
   "file_extension": ".py",
   "mimetype": "text/x-python",
   "name": "python",
   "nbconvert_exporter": "python",
   "pygments_lexer": "ipython3",
   "version": "3.6.1"
  },
  "toc": {
   "nav_menu": {},
   "number_sections": false,
   "sideBar": true,
   "skip_h1_title": false,
   "toc_cell": false,
   "toc_position": {},
   "toc_section_display": "none",
   "toc_window_display": false
  },
  "varInspector": {
   "cols": {
    "lenName": 16,
    "lenType": 16,
    "lenVar": 40
   },
   "kernels_config": {
    "python": {
     "delete_cmd_postfix": "",
     "delete_cmd_prefix": "del ",
     "library": "var_list.py",
     "varRefreshCmd": "print(var_dic_list())"
    },
    "r": {
     "delete_cmd_postfix": ") ",
     "delete_cmd_prefix": "rm(",
     "library": "var_list.r",
     "varRefreshCmd": "cat(var_dic_list()) "
    }
   },
   "position": {
    "height": "523px",
    "left": "1070px",
    "right": "20px",
    "top": "120px",
    "width": "350px"
   },
   "types_to_exclude": [
    "module",
    "function",
    "builtin_function_or_method",
    "instance",
    "_Feature"
   ],
   "window_display": false
  }
 },
 "nbformat": 4,
 "nbformat_minor": 2
}
